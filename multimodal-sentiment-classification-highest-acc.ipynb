{
 "cells": [
  {
   "cell_type": "markdown",
   "id": "4fc2f5a7",
   "metadata": {
    "_cell_guid": "b1076dfc-b9ad-4769-8c92-a6c4dae69d19",
    "_uuid": "8f2839f25d086af736a60e9eeb907d3b93b6e0e5",
    "papermill": {
     "duration": 0.006781,
     "end_time": "2024-11-12T05:33:48.346963",
     "exception": false,
     "start_time": "2024-11-12T05:33:48.340182",
     "status": "completed"
    },
    "tags": []
   },
   "source": [
    "# Multimodal Sentiment Analysis with Transformer Model\n",
    "This notebook demonstrates a multimodal sentiment analysis approach using DeBERTa for text encoding, DenseNet for image encoding, and a Transformer model for feature fusion. The goal is to classify tweets based on text and images into sentiment categories: \"Certainly Fake,\" \"Probably Fake,\" \"Probably Real,\" and \"Certainly Real.\" Key metrics tracked include accuracy, F1-score, and loss over training epochs, with the best-performing models saved.\n",
    "\n"
   ]
  },
  {
   "cell_type": "markdown",
   "id": "5277c840",
   "metadata": {
    "papermill": {
     "duration": 0.005994,
     "end_time": "2024-11-12T05:33:48.359145",
     "exception": false,
     "start_time": "2024-11-12T05:33:48.353151",
     "status": "completed"
    },
    "tags": []
   },
   "source": [
    "# Setup and Imports\n",
    "We start by importing the necessary libraries, setting up CUDA for GPU debugging, and initializing device settings.\n"
   ]
  },
  {
   "cell_type": "code",
   "execution_count": 1,
   "id": "8b0327d9",
   "metadata": {
    "execution": {
     "iopub.execute_input": "2024-11-12T05:33:48.373166Z",
     "iopub.status.busy": "2024-11-12T05:33:48.372457Z",
     "iopub.status.idle": "2024-11-12T05:34:12.072344Z",
     "shell.execute_reply": "2024-11-12T05:34:12.071322Z"
    },
    "papermill": {
     "duration": 23.709653,
     "end_time": "2024-11-12T05:34:12.074777",
     "exception": false,
     "start_time": "2024-11-12T05:33:48.365124",
     "status": "completed"
    },
    "tags": []
   },
   "outputs": [
    {
     "name": "stdout",
     "output_type": "stream",
     "text": [
      "Collecting torch-geometric\r\n",
      "  Downloading torch_geometric-2.6.1-py3-none-any.whl.metadata (63 kB)\r\n",
      "\u001b[2K     \u001b[90m━━━━━━━━━━━━━━━━━━━━━━━━━━━━━━━━━━━━━━━━\u001b[0m \u001b[32m63.1/63.1 kB\u001b[0m \u001b[31m3.0 MB/s\u001b[0m eta \u001b[36m0:00:00\u001b[0m\r\n",
      "\u001b[?25hRequirement already satisfied: aiohttp in /opt/conda/lib/python3.10/site-packages (from torch-geometric) (3.9.5)\r\n",
      "Requirement already satisfied: fsspec in /opt/conda/lib/python3.10/site-packages (from torch-geometric) (2024.6.1)\r\n",
      "Requirement already satisfied: jinja2 in /opt/conda/lib/python3.10/site-packages (from torch-geometric) (3.1.4)\r\n",
      "Requirement already satisfied: numpy in /opt/conda/lib/python3.10/site-packages (from torch-geometric) (1.26.4)\r\n",
      "Requirement already satisfied: psutil>=5.8.0 in /opt/conda/lib/python3.10/site-packages (from torch-geometric) (5.9.3)\r\n",
      "Requirement already satisfied: pyparsing in /opt/conda/lib/python3.10/site-packages (from torch-geometric) (3.1.2)\r\n",
      "Requirement already satisfied: requests in /opt/conda/lib/python3.10/site-packages (from torch-geometric) (2.32.3)\r\n",
      "Requirement already satisfied: tqdm in /opt/conda/lib/python3.10/site-packages (from torch-geometric) (4.66.4)\r\n",
      "Requirement already satisfied: aiosignal>=1.1.2 in /opt/conda/lib/python3.10/site-packages (from aiohttp->torch-geometric) (1.3.1)\r\n",
      "Requirement already satisfied: attrs>=17.3.0 in /opt/conda/lib/python3.10/site-packages (from aiohttp->torch-geometric) (23.2.0)\r\n",
      "Requirement already satisfied: frozenlist>=1.1.1 in /opt/conda/lib/python3.10/site-packages (from aiohttp->torch-geometric) (1.4.1)\r\n",
      "Requirement already satisfied: multidict<7.0,>=4.5 in /opt/conda/lib/python3.10/site-packages (from aiohttp->torch-geometric) (6.0.5)\r\n",
      "Requirement already satisfied: yarl<2.0,>=1.0 in /opt/conda/lib/python3.10/site-packages (from aiohttp->torch-geometric) (1.9.4)\r\n",
      "Requirement already satisfied: async-timeout<5.0,>=4.0 in /opt/conda/lib/python3.10/site-packages (from aiohttp->torch-geometric) (4.0.3)\r\n",
      "Requirement already satisfied: MarkupSafe>=2.0 in /opt/conda/lib/python3.10/site-packages (from jinja2->torch-geometric) (2.1.5)\r\n",
      "Requirement already satisfied: charset-normalizer<4,>=2 in /opt/conda/lib/python3.10/site-packages (from requests->torch-geometric) (3.3.2)\r\n",
      "Requirement already satisfied: idna<4,>=2.5 in /opt/conda/lib/python3.10/site-packages (from requests->torch-geometric) (3.7)\r\n",
      "Requirement already satisfied: urllib3<3,>=1.21.1 in /opt/conda/lib/python3.10/site-packages (from requests->torch-geometric) (1.26.18)\r\n",
      "Requirement already satisfied: certifi>=2017.4.17 in /opt/conda/lib/python3.10/site-packages (from requests->torch-geometric) (2024.8.30)\r\n",
      "Downloading torch_geometric-2.6.1-py3-none-any.whl (1.1 MB)\r\n",
      "\u001b[2K   \u001b[90m━━━━━━━━━━━━━━━━━━━━━━━━━━━━━━━━━━━━━━━━\u001b[0m \u001b[32m1.1/1.1 MB\u001b[0m \u001b[31m34.3 MB/s\u001b[0m eta \u001b[36m0:00:00\u001b[0m\r\n",
      "\u001b[?25hInstalling collected packages: torch-geometric\r\n",
      "Successfully installed torch-geometric-2.6.1\r\n",
      "env: CUDA_LAUNCH_BLOCKING=1\n"
     ]
    }
   ],
   "source": [
    "!pip install torch-geometric\n",
    "# Enable CUDA debugging if available\n",
    "%env CUDA_LAUNCH_BLOCKING=1\n",
    "\n",
    "import os\n",
    "import shutil\n",
    "import torch\n",
    "import torch.nn as nn\n",
    "import pandas as pd\n",
    "from transformers import DebertaV2Tokenizer, DebertaV2Model\n",
    "from torchvision import models, transforms\n",
    "from torch_geometric.loader import DataLoader\n",
    "from PIL import Image\n",
    "from sklearn.metrics import f1_score, accuracy_score, classification_report, confusion_matrix, roc_auc_score, roc_curve\n",
    "from sklearn.preprocessing import label_binarize\n",
    "import matplotlib.pyplot as plt\n",
    "import seaborn as sns\n",
    "import numpy as np\n",
    "from torch.optim.lr_scheduler import ReduceLROnPlateau\n",
    "from torch.utils.data import DataLoader, Dataset\n",
    "from torch.nn.utils.rnn import pad_sequence"
   ]
  },
  {
   "cell_type": "markdown",
   "id": "7c3f903c",
   "metadata": {
    "papermill": {
     "duration": 0.006589,
     "end_time": "2024-11-12T05:34:12.089506",
     "exception": false,
     "start_time": "2024-11-12T05:34:12.082917",
     "status": "completed"
    },
    "tags": []
   },
   "source": [
    "# Dataset Loading and Preprocessing\n",
    "We load the dataset and preprocess it to filter out errors and missing values."
   ]
  },
  {
   "cell_type": "code",
   "execution_count": 2,
   "id": "8a7a5232",
   "metadata": {
    "execution": {
     "iopub.execute_input": "2024-11-12T05:34:12.104870Z",
     "iopub.status.busy": "2024-11-12T05:34:12.103933Z",
     "iopub.status.idle": "2024-11-12T05:34:12.142185Z",
     "shell.execute_reply": "2024-11-12T05:34:12.141385Z"
    },
    "papermill": {
     "duration": 0.048047,
     "end_time": "2024-11-12T05:34:12.144207",
     "exception": false,
     "start_time": "2024-11-12T05:34:12.096160",
     "status": "completed"
    },
    "tags": []
   },
   "outputs": [],
   "source": [
    "# Load dataset\n",
    "data = pd.read_csv(\"/kaggle/input/tweet-data-game-on/Updated_Tweet_Data.csv\")\n",
    "# Filter out invalid entries\n",
    "data = data[data['Content'] != \"Error: Tweet could not be scraped\"]\n",
    "data = data.dropna(subset=['Image_Name']).reset_index(drop=True)"
   ]
  },
  {
   "cell_type": "markdown",
   "id": "7fa2ae23",
   "metadata": {
    "papermill": {
     "duration": 0.006534,
     "end_time": "2024-11-12T05:34:12.157723",
     "exception": false,
     "start_time": "2024-11-12T05:34:12.151189",
     "status": "completed"
    },
    "tags": []
   },
   "source": [
    "# Dataset EDA\n",
    "Here we try to find out our distribution of our data"
   ]
  },
  {
   "cell_type": "code",
   "execution_count": 3,
   "id": "468a03a5",
   "metadata": {
    "execution": {
     "iopub.execute_input": "2024-11-12T05:34:12.172732Z",
     "iopub.status.busy": "2024-11-12T05:34:12.172411Z",
     "iopub.status.idle": "2024-11-12T05:34:12.394619Z",
     "shell.execute_reply": "2024-11-12T05:34:12.393126Z"
    },
    "papermill": {
     "duration": 0.233567,
     "end_time": "2024-11-12T05:34:12.398315",
     "exception": false,
     "start_time": "2024-11-12T05:34:12.164748",
     "status": "completed"
    },
    "tags": []
   },
   "outputs": [
    {
     "data": {
      "image/png": "[encoded data removed]",
      "text/plain": [
       "<Figure size 800x800 with 1 Axes>"
      ]
     },
     "metadata": {},
     "output_type": "display_data"
    },
    {
     "name": "stdout",
     "output_type": "stream",
     "text": [
      "Label\n",
      "2    207\n",
      "1    113\n",
      "3     83\n",
      "0     77\n",
      "Name: count, dtype: int64\n"
     ]
    }
   ],
   "source": [
    "import matplotlib.pyplot as plt\n",
    "df = data\n",
    "label_counts = df['Label'].value_counts()\n",
    "plt.figure(figsize=(8, 8))\n",
    "plt.pie(label_counts, labels=label_counts.index, autopct='%1.1f%%', startangle=140)\n",
    "plt.title(\"Pie Chart Distribution of Labels\")\n",
    "plt.show()\n",
    "print(data.Label.value_counts())"
   ]
  },
  {
   "cell_type": "markdown",
   "id": "d5bc74ca",
   "metadata": {
    "papermill": {
     "duration": 0.007376,
     "end_time": "2024-11-12T05:34:12.417530",
     "exception": false,
     "start_time": "2024-11-12T05:34:12.410154",
     "status": "completed"
    },
    "tags": []
   },
   "source": [
    "1. **Text Preprocessing**\n",
    "\n",
    "    We tokenize text data using the DeBERTa tokenizer with padding and truncation for consistent input size.\n"
   ]
  },
  {
   "cell_type": "code",
   "execution_count": 4,
   "id": "656afbbd",
   "metadata": {
    "execution": {
     "iopub.execute_input": "2024-11-12T05:34:12.433683Z",
     "iopub.status.busy": "2024-11-12T05:34:12.433356Z",
     "iopub.status.idle": "2024-11-12T05:34:14.326150Z",
     "shell.execute_reply": "2024-11-12T05:34:14.324935Z"
    },
    "papermill": {
     "duration": 1.90383,
     "end_time": "2024-11-12T05:34:14.328772",
     "exception": false,
     "start_time": "2024-11-12T05:34:12.424942",
     "status": "completed"
    },
    "tags": []
   },
   "outputs": [
    {
     "data": {
      "application/vnd.jupyter.widget-view+json": {
       "model_id": "fa94efc4ffbe42b69c691c713ffb150b",
       "version_major": 2,
       "version_minor": 0
      },
      "text/plain": [
       "tokenizer_config.json:   0%|          | 0.00/52.0 [00:00<?, ?B/s]"
      ]
     },
     "metadata": {},
     "output_type": "display_data"
    },
    {
     "data": {
      "application/vnd.jupyter.widget-view+json": {
       "model_id": "cc0a6e2212284285bc54c07875ec8850",
       "version_major": 2,
       "version_minor": 0
      },
      "text/plain": [
       "spm.model:   0%|          | 0.00/2.46M [00:00<?, ?B/s]"
      ]
     },
     "metadata": {},
     "output_type": "display_data"
    },
    {
     "data": {
      "application/vnd.jupyter.widget-view+json": {
       "model_id": "11458ca5e67d449fa60b96603028544b",
       "version_major": 2,
       "version_minor": 0
      },
      "text/plain": [
       "config.json:   0%|          | 0.00/580 [00:00<?, ?B/s]"
      ]
     },
     "metadata": {},
     "output_type": "display_data"
    },
    {
     "name": "stderr",
     "output_type": "stream",
     "text": [
      "/opt/conda/lib/python3.10/site-packages/transformers/tokenization_utils_base.py:1617: FutureWarning: `clean_up_tokenization_spaces` was not set. It will be set to `True` by default. This behavior will be deprecated in transformers v4.45, and will be then set to `False` by default. For more details check this issue: https://github.com/huggingface/transformers/issues/31884\n",
      "  warnings.warn(\n"
     ]
    }
   ],
   "source": [
    "tokenizer = DebertaV2Tokenizer.from_pretrained(\"microsoft/deberta-v3-large\")\n",
    "\n",
    "def preprocess_text(text):\n",
    "    encoding = tokenizer(text, padding=\"max_length\", max_length=128, truncation=True, return_tensors=\"pt\")\n",
    "    return encoding[\"input_ids\"].squeeze(0), encoding[\"attention_mask\"].squeeze(0)"
   ]
  },
  {
   "cell_type": "markdown",
   "id": "1094c6dd",
   "metadata": {
    "papermill": {
     "duration": 0.008513,
     "end_time": "2024-11-12T05:34:14.347571",
     "exception": false,
     "start_time": "2024-11-12T05:34:14.339058",
     "status": "completed"
    },
    "tags": []
   },
   "source": [
    "2. **Image Preprocessing**\n",
    "    \n",
    "   Image transformations include resizing, normalization, and random augmentations to improve model generalization.\n",
    "\n"
   ]
  },
  {
   "cell_type": "code",
   "execution_count": 5,
   "id": "045b39c4",
   "metadata": {
    "execution": {
     "iopub.execute_input": "2024-11-12T05:34:14.365033Z",
     "iopub.status.busy": "2024-11-12T05:34:14.364677Z",
     "iopub.status.idle": "2024-11-12T05:34:15.211158Z",
     "shell.execute_reply": "2024-11-12T05:34:15.210132Z"
    },
    "papermill": {
     "duration": 0.858056,
     "end_time": "2024-11-12T05:34:15.213582",
     "exception": false,
     "start_time": "2024-11-12T05:34:14.355526",
     "status": "completed"
    },
    "tags": []
   },
   "outputs": [],
   "source": [
    "tokenizer = DebertaV2Tokenizer.from_pretrained(\"microsoft/deberta-v3-large\")\n",
    "image_transform = transforms.Compose([\n",
    "    transforms.Resize((224, 224)),\n",
    "    transforms.ToTensor(),\n",
    "    transforms.Normalize(mean=[0.485, 0.456, 0.406], std=[0.229, 0.224, 0.225]),\n",
    "])\n",
    "\n",
    "def preprocess_image(image_name):\n",
    "    if pd.isna(image_name) or not isinstance(image_name, str):\n",
    "        return torch.zeros(3, 224, 224)\n",
    "    image_path = os.path.join(\"/kaggle/input/tweet-data-game-on/Tweet_Images/\", image_name)  # Update path accordingly\n",
    "    try:\n",
    "        image = Image.open(image_path).convert(\"RGB\")\n",
    "        return image_transform(image)\n",
    "    except FileNotFoundError:\n",
    "        return torch.zeros(3, 224, 224)"
   ]
  },
  {
   "cell_type": "markdown",
   "id": "9080162e",
   "metadata": {
    "papermill": {
     "duration": 0.007873,
     "end_time": "2024-11-12T05:34:15.229862",
     "exception": false,
     "start_time": "2024-11-12T05:34:15.221989",
     "status": "completed"
    },
    "tags": []
   },
   "source": [
    "# Model Architecture"
   ]
  },
  {
   "cell_type": "markdown",
   "id": "3c511120",
   "metadata": {
    "papermill": {
     "duration": 0.007941,
     "end_time": "2024-11-12T05:34:15.245901",
     "exception": false,
     "start_time": "2024-11-12T05:34:15.237960",
     "status": "completed"
    },
    "tags": []
   },
   "source": [
    "1. **Text Encoder (DeBERTa)**\n",
    "    \n",
    "    The text encoder uses a DeBERTaV3 model with a dropout layer. We initially freeze DeBERTa layers for faster training."
   ]
  },
  {
   "cell_type": "code",
   "execution_count": 6,
   "id": "6b57016f",
   "metadata": {
    "execution": {
     "iopub.execute_input": "2024-11-12T05:34:15.263863Z",
     "iopub.status.busy": "2024-11-12T05:34:15.263040Z",
     "iopub.status.idle": "2024-11-12T05:34:15.269100Z",
     "shell.execute_reply": "2024-11-12T05:34:15.268274Z"
    },
    "papermill": {
     "duration": 0.017153,
     "end_time": "2024-11-12T05:34:15.271036",
     "exception": false,
     "start_time": "2024-11-12T05:34:15.253883",
     "status": "completed"
    },
    "tags": []
   },
   "outputs": [],
   "source": [
    "class TextEncoder(nn.Module):\n",
    "    def __init__(self):\n",
    "        super(TextEncoder, self).__init__()\n",
    "        self.deberta = DebertaV2Model.from_pretrained(\"microsoft/deberta-v3-large\")\n",
    "        self.proj = nn.Linear(1024, 512)  # Project DeBERTaV3 output to 512-dim\n",
    "\n",
    "    def forward(self, input_ids, attention_mask):\n",
    "        outputs = self.deberta(input_ids=input_ids, attention_mask=attention_mask).last_hidden_state\n",
    "        return self.proj(outputs[:, 0, :])  # Use [CLS] token for text representation"
   ]
  },
  {
   "cell_type": "markdown",
   "id": "8d5f8670",
   "metadata": {
    "papermill": {
     "duration": 0.007853,
     "end_time": "2024-11-12T05:34:15.287137",
     "exception": false,
     "start_time": "2024-11-12T05:34:15.279284",
     "status": "completed"
    },
    "tags": []
   },
   "source": [
    "2. **Image Encoder (DenseNet-121)**\n",
    "\n",
    "    The image encoder is built on a pre-trained DenseNet model, extracting image features with dropout for regularization."
   ]
  },
  {
   "cell_type": "code",
   "execution_count": 7,
   "id": "13bf78a1",
   "metadata": {
    "execution": {
     "iopub.execute_input": "2024-11-12T05:34:15.304843Z",
     "iopub.status.busy": "2024-11-12T05:34:15.304311Z",
     "iopub.status.idle": "2024-11-12T05:34:15.310746Z",
     "shell.execute_reply": "2024-11-12T05:34:15.309890Z"
    },
    "papermill": {
     "duration": 0.017614,
     "end_time": "2024-11-12T05:34:15.312660",
     "exception": false,
     "start_time": "2024-11-12T05:34:15.295046",
     "status": "completed"
    },
    "tags": []
   },
   "outputs": [],
   "source": [
    "class ImageEncoder(nn.Module):\n",
    "    def __init__(self):\n",
    "        super(ImageEncoder, self).__init__()\n",
    "        densenet = models.densenet121(pretrained=True)\n",
    "        self.features = densenet.features\n",
    "        self.avgpool = nn.AdaptiveAvgPool2d((1, 1))\n",
    "        self.proj = nn.Linear(1024, 512)  # Reduce image focus with DenseNet-121 and project to 512-dim\n",
    "\n",
    "    def forward(self, images):\n",
    "        features = self.features(images)\n",
    "        pooled = self.avgpool(features).view(features.size(0), -1)\n",
    "        return self.proj(pooled)  # Project to 512-dim"
   ]
  },
  {
   "cell_type": "markdown",
   "id": "2fef43a0",
   "metadata": {
    "papermill": {
     "duration": 0.007771,
     "end_time": "2024-11-12T05:34:15.328389",
     "exception": false,
     "start_time": "2024-11-12T05:34:15.320618",
     "status": "completed"
    },
    "tags": []
   },
   "source": [
    "3. **Multimodal Transformer Model**\n",
    "    \n",
    "    This model fuses text and image features via a Transformer encoder for classification."
   ]
  },
  {
   "cell_type": "code",
   "execution_count": 8,
   "id": "f58c4249",
   "metadata": {
    "execution": {
     "iopub.execute_input": "2024-11-12T05:34:15.345574Z",
     "iopub.status.busy": "2024-11-12T05:34:15.345236Z",
     "iopub.status.idle": "2024-11-12T05:34:15.351901Z",
     "shell.execute_reply": "2024-11-12T05:34:15.351020Z"
    },
    "papermill": {
     "duration": 0.017605,
     "end_time": "2024-11-12T05:34:15.353856",
     "exception": false,
     "start_time": "2024-11-12T05:34:15.336251",
     "status": "completed"
    },
    "tags": []
   },
   "outputs": [],
   "source": [
    "class MultimodalTransformerModel(nn.Module):\n",
    "    def __init__(self, hidden_dim=512, output_dim=4):\n",
    "        super(MultimodalTransformerModel, self).__init__()\n",
    "        encoder_layer = nn.TransformerEncoderLayer(d_model=hidden_dim, nhead=8)\n",
    "        self.transformer_encoder = nn.TransformerEncoder(encoder_layer, num_layers=4)\n",
    "        self.classifier = nn.Linear(hidden_dim, output_dim)\n",
    "        \n",
    "    def forward(self, text_features, image_features):\n",
    "        combined_features = torch.stack([text_features, image_features], dim=1)\n",
    "        fused_features = self.transformer_encoder(combined_features).mean(dim=1)\n",
    "        return self.classifier(fused_features)"
   ]
  },
  {
   "cell_type": "markdown",
   "id": "abce9f9a",
   "metadata": {
    "papermill": {
     "duration": 0.007752,
     "end_time": "2024-11-12T05:34:15.369474",
     "exception": false,
     "start_time": "2024-11-12T05:34:15.361722",
     "status": "completed"
    },
    "tags": []
   },
   "source": [
    "# Dataset and Dataloader with Custom Collate Function\n",
    "   We create a custom dataset class and collate function to handle dynamic padding for text input.\n"
   ]
  },
  {
   "cell_type": "code",
   "execution_count": 9,
   "id": "ee8cbe2f",
   "metadata": {
    "execution": {
     "iopub.execute_input": "2024-11-12T05:34:15.386835Z",
     "iopub.status.busy": "2024-11-12T05:34:15.386282Z",
     "iopub.status.idle": "2024-11-12T05:34:15.398347Z",
     "shell.execute_reply": "2024-11-12T05:34:15.397489Z"
    },
    "papermill": {
     "duration": 0.022899,
     "end_time": "2024-11-12T05:34:15.400249",
     "exception": false,
     "start_time": "2024-11-12T05:34:15.377350",
     "status": "completed"
    },
    "tags": []
   },
   "outputs": [],
   "source": [
    "class EvalitaDataset(Dataset):\n",
    "    def __init__(self, data):\n",
    "        self.data = data\n",
    "    \n",
    "    def __getitem__(self, idx):\n",
    "        row = self.data.iloc[idx]\n",
    "        text_input, attention_mask = preprocess_text(row[\"Content\"])\n",
    "        image_input = preprocess_image(row.get(\"Image_Name\", None))\n",
    "        label = torch.tensor(row[\"Label\"], dtype=torch.long)\n",
    "        return {'input_ids': text_input, 'attention_mask': attention_mask, 'pixel_values': image_input}, label\n",
    "    \n",
    "    def __len__(self):\n",
    "        return len(self.data)\n",
    "    \n",
    "def collate_fn(batch):\n",
    "    inputs, labels = zip(*batch)\n",
    "    pixel_values = torch.stack([item['pixel_values'] for item in inputs])\n",
    "    input_ids = pad_sequence([item['input_ids'] for item in inputs], batch_first=True)\n",
    "    attention_mask = pad_sequence([item['attention_mask'] for item in inputs], batch_first=True)\n",
    "    labels = torch.stack(labels)\n",
    "    return {'pixel_values': pixel_values, 'input_ids': input_ids, 'attention_mask': attention_mask}, labels\n",
    "\n",
    "dataset = EvalitaDataset(data)\n",
    "dataloader = DataLoader(dataset, batch_size=8, shuffle=True, collate_fn=collate_fn)"
   ]
  },
  {
   "cell_type": "markdown",
   "id": "daaef952",
   "metadata": {
    "papermill": {
     "duration": 0.007914,
     "end_time": "2024-11-12T05:34:15.416376",
     "exception": false,
     "start_time": "2024-11-12T05:34:15.408462",
     "status": "completed"
    },
    "tags": []
   },
   "source": [
    "# Training Loop and Model-Saving Logic\n",
    "In this training loop, we track and save the models with the highest accuracy and F1-score across epochs."
   ]
  },
  {
   "cell_type": "code",
   "execution_count": 10,
   "id": "05297c09",
   "metadata": {
    "execution": {
     "iopub.execute_input": "2024-11-12T05:34:15.434059Z",
     "iopub.status.busy": "2024-11-12T05:34:15.433723Z",
     "iopub.status.idle": "2024-11-12T06:57:02.832809Z",
     "shell.execute_reply": "2024-11-12T06:57:02.831805Z"
    },
    "papermill": {
     "duration": 4967.427595,
     "end_time": "2024-11-12T06:57:02.851954",
     "exception": false,
     "start_time": "2024-11-12T05:34:15.424359",
     "status": "completed"
    },
    "tags": []
   },
   "outputs": [
    {
     "name": "stdout",
     "output_type": "stream",
     "text": [
      "Using device: cuda\n"
     ]
    },
    {
     "data": {
      "application/vnd.jupyter.widget-view+json": {
       "model_id": "27b372d7483a4d05a0eb75d4b95e0a64",
       "version_major": 2,
       "version_minor": 0
      },
      "text/plain": [
       "pytorch_model.bin:   0%|          | 0.00/874M [00:00<?, ?B/s]"
      ]
     },
     "metadata": {},
     "output_type": "display_data"
    },
    {
     "name": "stderr",
     "output_type": "stream",
     "text": [
      "/opt/conda/lib/python3.10/site-packages/torchvision/models/_utils.py:208: UserWarning: The parameter 'pretrained' is deprecated since 0.13 and may be removed in the future, please use 'weights' instead.\n",
      "  warnings.warn(\n",
      "/opt/conda/lib/python3.10/site-packages/torchvision/models/_utils.py:223: UserWarning: Arguments other than a weight enum or `None` for 'weights' are deprecated since 0.13 and may be removed in the future. The current behavior is equivalent to passing `weights=DenseNet121_Weights.IMAGENET1K_V1`. You can also use `weights=DenseNet121_Weights.DEFAULT` to get the most up-to-date weights.\n",
      "  warnings.warn(msg)\n",
      "Downloading: \"https://download.pytorch.org/models/densenet121-a639ec97.pth\" to /root/.cache/torch/hub/checkpoints/densenet121-a639ec97.pth\n",
      "100%|██████████| 30.8M/30.8M [00:00<00:00, 130MB/s]\n",
      "/opt/conda/lib/python3.10/site-packages/torch/nn/modules/transformer.py:307: UserWarning: enable_nested_tensor is True, but self.use_nested_tensor is False because encoder_layer.self_attn.batch_first was not True(use batch_first for better inference performance)\n",
      "  warnings.warn(f\"enable_nested_tensor is True, but self.use_nested_tensor is False because {why_not_sparsity_fast_path}\")\n"
     ]
    },
    {
     "name": "stdout",
     "output_type": "stream",
     "text": [
      "New best accuracy model saved with accuracy: 0.3854\n",
      "New best F1 score model saved with F1 score: 0.2828\n",
      "Epoch 1 | Loss: 1.3531 | Accuracy: 0.3854 | F1 Score: 0.2828\n",
      "New best accuracy model saved with accuracy: 0.4271\n",
      "Epoch 2 | Loss: 1.3118 | Accuracy: 0.4271 | F1 Score: 0.2735\n",
      "Epoch 3 | Loss: 1.3085 | Accuracy: 0.4104 | F1 Score: 0.2827\n",
      "New best accuracy model saved with accuracy: 0.4354\n",
      "Epoch 4 | Loss: 1.2994 | Accuracy: 0.4354 | F1 Score: 0.2790\n",
      "New best F1 score model saved with F1 score: 0.3043\n",
      "Epoch 5 | Loss: 1.2767 | Accuracy: 0.4229 | F1 Score: 0.3043\n",
      "New best accuracy model saved with accuracy: 0.4479\n",
      "New best F1 score model saved with F1 score: 0.3367\n",
      "Epoch 6 | Loss: 1.2538 | Accuracy: 0.4479 | F1 Score: 0.3367\n",
      "Epoch 7 | Loss: 1.2315 | Accuracy: 0.4417 | F1 Score: 0.3300\n",
      "New best F1 score model saved with F1 score: 0.3525\n",
      "Epoch 8 | Loss: 1.2246 | Accuracy: 0.4458 | F1 Score: 0.3525\n",
      "New best accuracy model saved with accuracy: 0.4625\n",
      "Epoch 9 | Loss: 1.2028 | Accuracy: 0.4625 | F1 Score: 0.3379\n",
      "New best accuracy model saved with accuracy: 0.4813\n",
      "New best F1 score model saved with F1 score: 0.3907\n",
      "Epoch 10 | Loss: 1.1890 | Accuracy: 0.4813 | F1 Score: 0.3907\n",
      "New best accuracy model saved with accuracy: 0.4875\n",
      "New best F1 score model saved with F1 score: 0.4027\n",
      "Epoch 11 | Loss: 1.1551 | Accuracy: 0.4875 | F1 Score: 0.4027\n",
      "New best accuracy model saved with accuracy: 0.5229\n",
      "New best F1 score model saved with F1 score: 0.4635\n",
      "Epoch 12 | Loss: 1.1305 | Accuracy: 0.5229 | F1 Score: 0.4635\n",
      "Epoch 13 | Loss: 1.1337 | Accuracy: 0.5188 | F1 Score: 0.4486\n",
      "New best accuracy model saved with accuracy: 0.5292\n",
      "New best F1 score model saved with F1 score: 0.4695\n",
      "Epoch 14 | Loss: 1.0930 | Accuracy: 0.5292 | F1 Score: 0.4695\n",
      "New best accuracy model saved with accuracy: 0.5750\n",
      "New best F1 score model saved with F1 score: 0.5334\n",
      "Epoch 15 | Loss: 1.0387 | Accuracy: 0.5750 | F1 Score: 0.5334\n",
      "New best accuracy model saved with accuracy: 0.5771\n",
      "New best F1 score model saved with F1 score: 0.5420\n",
      "Epoch 16 | Loss: 1.0402 | Accuracy: 0.5771 | F1 Score: 0.5420\n",
      "New best accuracy model saved with accuracy: 0.5792\n",
      "New best F1 score model saved with F1 score: 0.5446\n",
      "Epoch 17 | Loss: 1.0157 | Accuracy: 0.5792 | F1 Score: 0.5446\n",
      "New best accuracy model saved with accuracy: 0.5979\n",
      "New best F1 score model saved with F1 score: 0.5724\n",
      "Epoch 18 | Loss: 0.9867 | Accuracy: 0.5979 | F1 Score: 0.5724\n",
      "New best accuracy model saved with accuracy: 0.6125\n",
      "New best F1 score model saved with F1 score: 0.5859\n",
      "Epoch 19 | Loss: 0.9644 | Accuracy: 0.6125 | F1 Score: 0.5859\n",
      "Epoch 20 | Loss: 0.9846 | Accuracy: 0.6083 | F1 Score: 0.5831\n",
      "New best accuracy model saved with accuracy: 0.6229\n",
      "New best F1 score model saved with F1 score: 0.6005\n",
      "Epoch 21 | Loss: 0.9496 | Accuracy: 0.6229 | F1 Score: 0.6005\n",
      "Epoch 22 | Loss: 0.9291 | Accuracy: 0.6125 | F1 Score: 0.5901\n",
      "New best accuracy model saved with accuracy: 0.6667\n",
      "New best F1 score model saved with F1 score: 0.6553\n",
      "Epoch 23 | Loss: 0.8844 | Accuracy: 0.6667 | F1 Score: 0.6553\n",
      "New best accuracy model saved with accuracy: 0.6833\n",
      "New best F1 score model saved with F1 score: 0.6751\n",
      "Epoch 24 | Loss: 0.8700 | Accuracy: 0.6833 | F1 Score: 0.6751\n",
      "Epoch 25 | Loss: 0.8387 | Accuracy: 0.6646 | F1 Score: 0.6522\n",
      "Epoch 26 | Loss: 0.8187 | Accuracy: 0.6729 | F1 Score: 0.6617\n",
      "New best accuracy model saved with accuracy: 0.7375\n",
      "New best F1 score model saved with F1 score: 0.7337\n",
      "Epoch 27 | Loss: 0.7803 | Accuracy: 0.7375 | F1 Score: 0.7337\n",
      "Epoch 28 | Loss: 0.7759 | Accuracy: 0.7146 | F1 Score: 0.7031\n",
      "Epoch 29 | Loss: 0.7439 | Accuracy: 0.7250 | F1 Score: 0.7173\n",
      "Epoch 30 | Loss: 0.7325 | Accuracy: 0.7250 | F1 Score: 0.7164\n",
      "Epoch 31 | Loss: 0.7427 | Accuracy: 0.7250 | F1 Score: 0.7200\n",
      "New best accuracy model saved with accuracy: 0.7708\n",
      "New best F1 score model saved with F1 score: 0.7670\n",
      "Epoch 32 | Loss: 0.7042 | Accuracy: 0.7708 | F1 Score: 0.7670\n",
      "New best accuracy model saved with accuracy: 0.7750\n",
      "New best F1 score model saved with F1 score: 0.7701\n",
      "Epoch 33 | Loss: 0.6658 | Accuracy: 0.7750 | F1 Score: 0.7701\n",
      "Epoch 34 | Loss: 0.6840 | Accuracy: 0.7604 | F1 Score: 0.7526\n",
      "New best accuracy model saved with accuracy: 0.7854\n",
      "New best F1 score model saved with F1 score: 0.7812\n",
      "Epoch 35 | Loss: 0.6591 | Accuracy: 0.7854 | F1 Score: 0.7812\n",
      "Epoch 36 | Loss: 0.7045 | Accuracy: 0.7438 | F1 Score: 0.7416\n",
      "New best F1 score model saved with F1 score: 0.7825\n",
      "Epoch 37 | Loss: 0.6756 | Accuracy: 0.7854 | F1 Score: 0.7825\n",
      "New best accuracy model saved with accuracy: 0.7875\n",
      "New best F1 score model saved with F1 score: 0.7838\n",
      "Epoch 38 | Loss: 0.6919 | Accuracy: 0.7875 | F1 Score: 0.7838\n",
      "Epoch 39 | Loss: 0.6588 | Accuracy: 0.7833 | F1 Score: 0.7803\n",
      "Epoch 40 | Loss: 0.6581 | Accuracy: 0.7688 | F1 Score: 0.7660\n",
      "Epoch 41 | Loss: 0.6835 | Accuracy: 0.7542 | F1 Score: 0.7505\n",
      "Epoch 42 | Loss: 0.6682 | Accuracy: 0.7771 | F1 Score: 0.7746\n",
      "Epoch 43 | Loss: 0.6475 | Accuracy: 0.7812 | F1 Score: 0.7774\n",
      "Epoch 44 | Loss: 0.6677 | Accuracy: 0.7667 | F1 Score: 0.7624\n",
      "Epoch 45 | Loss: 0.6585 | Accuracy: 0.7729 | F1 Score: 0.7708\n",
      "Epoch 46 | Loss: 0.6650 | Accuracy: 0.7604 | F1 Score: 0.7573\n",
      "Epoch 47 | Loss: 0.6581 | Accuracy: 0.7479 | F1 Score: 0.7419\n",
      "Epoch 48 | Loss: 0.6634 | Accuracy: 0.7562 | F1 Score: 0.7526\n",
      "Epoch 49 | Loss: 0.6527 | Accuracy: 0.7792 | F1 Score: 0.7760\n",
      "Epoch 50 | Loss: 0.6312 | Accuracy: 0.7854 | F1 Score: 0.7811\n",
      "Epoch 51 | Loss: 0.6532 | Accuracy: 0.7812 | F1 Score: 0.7793\n",
      "Epoch 52 | Loss: 0.6608 | Accuracy: 0.7771 | F1 Score: 0.7735\n",
      "Epoch 53 | Loss: 0.6610 | Accuracy: 0.7625 | F1 Score: 0.7577\n",
      "Epoch 54 | Loss: 0.6643 | Accuracy: 0.7646 | F1 Score: 0.7613\n",
      "Epoch 55 | Loss: 0.7037 | Accuracy: 0.7375 | F1 Score: 0.7341\n",
      "Epoch 56 | Loss: 0.6624 | Accuracy: 0.7812 | F1 Score: 0.7787\n",
      "Epoch 57 | Loss: 0.6578 | Accuracy: 0.7562 | F1 Score: 0.7510\n",
      "Epoch 58 | Loss: 0.6662 | Accuracy: 0.7729 | F1 Score: 0.7693\n",
      "Epoch 59 | Loss: 0.6744 | Accuracy: 0.7625 | F1 Score: 0.7586\n",
      "New best accuracy model saved with accuracy: 0.8042\n",
      "New best F1 score model saved with F1 score: 0.8007\n",
      "Epoch 60 | Loss: 0.6281 | Accuracy: 0.8042 | F1 Score: 0.8007\n",
      "Epoch 61 | Loss: 0.6531 | Accuracy: 0.7729 | F1 Score: 0.7683\n",
      "Epoch 62 | Loss: 0.6336 | Accuracy: 0.7979 | F1 Score: 0.7946\n",
      "Epoch 63 | Loss: 0.6528 | Accuracy: 0.7854 | F1 Score: 0.7811\n",
      "Epoch 64 | Loss: 0.6738 | Accuracy: 0.7688 | F1 Score: 0.7652\n",
      "Epoch 65 | Loss: 0.6632 | Accuracy: 0.7604 | F1 Score: 0.7588\n",
      "Epoch 66 | Loss: 0.6764 | Accuracy: 0.7750 | F1 Score: 0.7721\n",
      "Epoch 67 | Loss: 0.6480 | Accuracy: 0.8000 | F1 Score: 0.7976\n",
      "Epoch 68 | Loss: 0.6418 | Accuracy: 0.7833 | F1 Score: 0.7800\n",
      "Epoch 69 | Loss: 0.6533 | Accuracy: 0.7875 | F1 Score: 0.7858\n",
      "Epoch 70 | Loss: 0.6539 | Accuracy: 0.7792 | F1 Score: 0.7726\n",
      "Epoch 71 | Loss: 0.6425 | Accuracy: 0.7833 | F1 Score: 0.7798\n",
      "Epoch 72 | Loss: 0.6426 | Accuracy: 0.7812 | F1 Score: 0.7780\n",
      "Epoch 73 | Loss: 0.6493 | Accuracy: 0.7875 | F1 Score: 0.7825\n",
      "Epoch 74 | Loss: 0.6611 | Accuracy: 0.7646 | F1 Score: 0.7599\n",
      "Epoch 75 | Loss: 0.6421 | Accuracy: 0.7833 | F1 Score: 0.7799\n",
      "Epoch 76 | Loss: 0.6527 | Accuracy: 0.7792 | F1 Score: 0.7756\n",
      "Epoch 77 | Loss: 0.6714 | Accuracy: 0.7625 | F1 Score: 0.7599\n",
      "Epoch 78 | Loss: 0.6691 | Accuracy: 0.7646 | F1 Score: 0.7614\n",
      "Epoch 79 | Loss: 0.6703 | Accuracy: 0.7771 | F1 Score: 0.7705\n",
      "Epoch 80 | Loss: 0.6730 | Accuracy: 0.7958 | F1 Score: 0.7928\n",
      "Epoch 81 | Loss: 0.6668 | Accuracy: 0.7812 | F1 Score: 0.7776\n",
      "Epoch 82 | Loss: 0.6493 | Accuracy: 0.7750 | F1 Score: 0.7704\n",
      "Epoch 83 | Loss: 0.6442 | Accuracy: 0.7812 | F1 Score: 0.7779\n",
      "Epoch 84 | Loss: 0.6575 | Accuracy: 0.7688 | F1 Score: 0.7666\n",
      "Epoch 85 | Loss: 0.6524 | Accuracy: 0.8000 | F1 Score: 0.7966\n",
      "Epoch 86 | Loss: 0.6649 | Accuracy: 0.7750 | F1 Score: 0.7720\n",
      "Epoch 87 | Loss: 0.6605 | Accuracy: 0.7542 | F1 Score: 0.7521\n",
      "Epoch 88 | Loss: 0.6865 | Accuracy: 0.7562 | F1 Score: 0.7532\n",
      "Epoch 89 | Loss: 0.6714 | Accuracy: 0.7625 | F1 Score: 0.7604\n",
      "Epoch 90 | Loss: 0.6742 | Accuracy: 0.7729 | F1 Score: 0.7701\n",
      "Epoch 91 | Loss: 0.6676 | Accuracy: 0.7875 | F1 Score: 0.7837\n",
      "Epoch 92 | Loss: 0.6431 | Accuracy: 0.7875 | F1 Score: 0.7846\n",
      "Epoch 93 | Loss: 0.6372 | Accuracy: 0.7750 | F1 Score: 0.7709\n",
      "Epoch 94 | Loss: 0.6446 | Accuracy: 0.7729 | F1 Score: 0.7692\n",
      "Epoch 95 | Loss: 0.6594 | Accuracy: 0.7667 | F1 Score: 0.7625\n",
      "Epoch 96 | Loss: 0.6560 | Accuracy: 0.7771 | F1 Score: 0.7747\n",
      "Epoch 97 | Loss: 0.6648 | Accuracy: 0.7583 | F1 Score: 0.7547\n",
      "Epoch 98 | Loss: 0.6392 | Accuracy: 0.7917 | F1 Score: 0.7891\n",
      "Epoch 99 | Loss: 0.6497 | Accuracy: 0.7729 | F1 Score: 0.7704\n",
      "Epoch 100 | Loss: 0.6609 | Accuracy: 0.7604 | F1 Score: 0.7565\n"
     ]
    }
   ],
   "source": [
    "# Set device\n",
    "device = torch.device(\"cuda\" if torch.cuda.is_available() else \"cpu\")\n",
    "print(\"Using device:\", device)\n",
    "# Initialize Models, Optimizer, and Loss\n",
    "text_encoder = TextEncoder().to(device)\n",
    "image_encoder = ImageEncoder().to(device)\n",
    "model = MultimodalTransformerModel().to(device)\n",
    "optimizer = torch.optim.Adam(model.parameters(), lr=1e-5)\n",
    "criterion = nn.CrossEntropyLoss()\n",
    "scheduler = ReduceLROnPlateau(optimizer, mode='max', factor=0.1, patience=3, verbose=True)\n",
    "\n",
    "import os\n",
    "import shutil\n",
    "import torch\n",
    "import torch.nn as nn\n",
    "import pandas as pd\n",
    "from sklearn.metrics import f1_score, accuracy_score, classification_report, confusion_matrix, roc_auc_score, roc_curve\n",
    "import seaborn as sns\n",
    "import matplotlib.pyplot as plt\n",
    "from sklearn.preprocessing import label_binarize\n",
    "\n",
    "# Directories to save the best models\n",
    "highest_acc_dir = \"/kaggle/working/highest_acc\"\n",
    "highest_f1_dir = \"/kaggle/working/highest_f1\"\n",
    "os.makedirs(highest_acc_dir, exist_ok=True)\n",
    "os.makedirs(highest_f1_dir, exist_ok=True)\n",
    "\n",
    "# Initialize tracking variables for highest metrics\n",
    "best_accuracy = 0.0\n",
    "best_f1_score = 0.0\n",
    "\n",
    "# Training loop with model-saving logic\n",
    "history = {'epoch': [], 'loss': [], 'accuracy': [], 'f1_score': []}\n",
    "for epoch in range(100):  # Adjust epochs as needed\n",
    "    model.train()\n",
    "    total_loss, correct_predictions, total_samples = 0, 0, 0\n",
    "    all_preds, all_labels = [], []\n",
    "    \n",
    "    for batch in dataloader:\n",
    "        inputs, labels = batch\n",
    "        input_ids, attention_mask, pixel_values = [inputs[key].to(device) for key in ['input_ids', 'attention_mask', 'pixel_values']]\n",
    "        labels = labels.to(device)\n",
    "        \n",
    "        text_features = text_encoder(input_ids, attention_mask)\n",
    "        image_features = image_encoder(pixel_values)\n",
    "        \n",
    "        outputs = model(text_features, image_features)\n",
    "        loss = criterion(outputs, labels)\n",
    "        \n",
    "        optimizer.zero_grad()\n",
    "        loss.backward()\n",
    "        optimizer.step()\n",
    "        \n",
    "        total_loss += loss.item()\n",
    "        preds = torch.argmax(outputs, dim=1)\n",
    "        \n",
    "        correct_predictions += (preds == labels).sum().item()\n",
    "        total_samples += labels.size(0)\n",
    "        \n",
    "        all_preds.extend(preds.cpu().numpy())\n",
    "        all_labels.extend(labels.cpu().numpy())\n",
    "    \n",
    "    avg_loss = total_loss / len(dataloader)\n",
    "    accuracy = correct_predictions / total_samples\n",
    "    f1 = f1_score(all_labels, all_preds, average=\"weighted\")\n",
    "    \n",
    "    scheduler.step(f1)\n",
    "    \n",
    "    # Save to history\n",
    "    history['epoch'].append(epoch + 1)\n",
    "    history['loss'].append(avg_loss)\n",
    "    history['accuracy'].append(accuracy)\n",
    "    history['f1_score'].append(f1)\n",
    "    \n",
    "    # Check for new highest accuracy\n",
    "    if accuracy > best_accuracy:\n",
    "        best_accuracy = accuracy\n",
    "        shutil.rmtree(highest_acc_dir)\n",
    "        os.makedirs(highest_acc_dir, exist_ok=True)\n",
    "        torch.save({\n",
    "            'text_encoder_state_dict': text_encoder.state_dict(),\n",
    "            'image_encoder_state_dict': image_encoder.state_dict(),\n",
    "            'model_state_dict': model.state_dict(),\n",
    "            'optimizer_state_dict': optimizer.state_dict(),\n",
    "            'scheduler_state_dict': scheduler.state_dict()\n",
    "        }, os.path.join(highest_acc_dir, \"best_accuracy_model.pth\"))\n",
    "        print(f\"New best accuracy model saved with accuracy: {best_accuracy:.4f}\")\n",
    "\n",
    "    # Check for new highest F1 score\n",
    "    if f1 > best_f1_score:\n",
    "        best_f1_score = f1\n",
    "        shutil.rmtree(highest_f1_dir)\n",
    "        os.makedirs(highest_f1_dir, exist_ok=True)\n",
    "        torch.save({\n",
    "            'text_encoder_state_dict': text_encoder.state_dict(),\n",
    "            'image_encoder_state_dict': image_encoder.state_dict(),\n",
    "            'model_state_dict': model.state_dict(),\n",
    "            'optimizer_state_dict': optimizer.state_dict(),\n",
    "            'scheduler_state_dict': scheduler.state_dict()\n",
    "        }, os.path.join(highest_f1_dir, \"best_f1_model.pth\"))\n",
    "        print(f\"New best F1 score model saved with F1 score: {best_f1_score:.4f}\")\n",
    "    \n",
    "    print(f\"Epoch {epoch+1} | Loss: {avg_loss:.4f} | Accuracy: {accuracy:.4f} | F1 Score: {f1:.4f}\")"
   ]
  },
  {
   "cell_type": "markdown",
   "id": "95ec6af4",
   "metadata": {
    "papermill": {
     "duration": 0.017418,
     "end_time": "2024-11-12T06:57:02.886989",
     "exception": false,
     "start_time": "2024-11-12T06:57:02.869571",
     "status": "completed"
    },
    "tags": []
   },
   "source": [
    "# Model Performance Analysis\n",
    "1. This section includes plotting training history, confusion matrix, classification report, and ROC-AUC curves.\n",
    "2. Visualizations help interpret the model’s performance by class and highlight areas for improvement."
   ]
  },
  {
   "cell_type": "code",
   "execution_count": 11,
   "id": "a0aea4a8",
   "metadata": {
    "execution": {
     "iopub.execute_input": "2024-11-12T06:57:02.924099Z",
     "iopub.status.busy": "2024-11-12T06:57:02.923319Z",
     "iopub.status.idle": "2024-11-12T06:57:04.631706Z",
     "shell.execute_reply": "2024-11-12T06:57:04.630781Z"
    },
    "papermill": {
     "duration": 1.729167,
     "end_time": "2024-11-12T06:57:04.633852",
     "exception": false,
     "start_time": "2024-11-12T06:57:02.904685",
     "status": "completed"
    },
    "tags": []
   },
   "outputs": [
    {
     "name": "stdout",
     "output_type": "stream",
     "text": [
      "\n",
      "Training History:\n",
      "    epoch      loss  accuracy  f1_score\n",
      "0       1  1.353131  0.385417  0.282808\n",
      "1       2  1.311825  0.427083  0.273513\n",
      "2       3  1.308497  0.410417  0.282738\n",
      "3       4  1.299369  0.435417  0.279036\n",
      "4       5  1.276683  0.422917  0.304339\n",
      "..    ...       ...       ...       ...\n",
      "95     96  0.655970  0.777083  0.774686\n",
      "96     97  0.664813  0.758333  0.754736\n",
      "97     98  0.639225  0.791667  0.789067\n",
      "98     99  0.649699  0.772917  0.770421\n",
      "99    100  0.660863  0.760417  0.756546\n",
      "\n",
      "[100 rows x 4 columns]\n"
     ]
    },
    {
     "data": {
      "image/png": "[encoded data removed]",
      "text/plain": [
       "<Figure size 800x600 with 1 Axes>"
      ]
     },
     "metadata": {},
     "output_type": "display_data"
    },
    {
     "name": "stdout",
     "output_type": "stream",
     "text": [
      "\n",
      "Errors by Class:\n",
      "                Total Errors\n",
      "Certainly Real            32\n",
      "Certainly Fake            29\n",
      "Probably Fake             28\n",
      "Probably Real             26\n",
      "\n",
      "Classification Report:\n",
      "                precision    recall  f1-score     support\n",
      "Certainly Fake   0.842105  0.623377  0.716418   77.000000\n",
      "Probably Fake    0.726496  0.752212  0.739130  113.000000\n",
      "Probably Real    0.754167  0.874396  0.809843  207.000000\n",
      "Certainly Real   0.772727  0.614458  0.684564   83.000000\n",
      "accuracy         0.760417  0.760417  0.760417    0.760417\n",
      "macro avg        0.773874  0.716111  0.737489  480.000000\n",
      "weighted avg     0.764969  0.760417  0.756546  480.000000\n"
     ]
    },
    {
     "data": {
      "image/png": "[encoded data removed]",
      "text/plain": [
       "<Figure size 1000x700 with 1 Axes>"
      ]
     },
     "metadata": {},
     "output_type": "display_data"
    },
    {
     "data": {
      "image/png": "[encoded data removed]",
      "text/plain": [
       "<Figure size 1000x700 with 1 Axes>"
      ]
     },
     "metadata": {},
     "output_type": "display_data"
    },
    {
     "data": {
      "image/png": "[encoded data removed]",
      "text/plain": [
       "<Figure size 1000x500 with 1 Axes>"
      ]
     },
     "metadata": {},
     "output_type": "display_data"
    },
    {
     "data": {
      "image/png": "[encoded data removed]",
      "text/plain": [
       "<Figure size 1000x500 with 1 Axes>"
      ]
     },
     "metadata": {},
     "output_type": "display_data"
    },
    {
     "data": {
      "image/png": "[encoded data removed]",
      "text/plain": [
       "<Figure size 1000x500 with 1 Axes>"
      ]
     },
     "metadata": {},
     "output_type": "display_data"
    },
    {
     "data": {
      "image/png": "[encoded data removed]",
      "text/plain": [
       "<Figure size 1200x600 with 1 Axes>"
      ]
     },
     "metadata": {},
     "output_type": "display_data"
    }
   ],
   "source": [
    "import numpy as np\n",
    "# EDA: Convert history to DataFrame for analysis\n",
    "history_df = pd.DataFrame(history)\n",
    "print(\"\\nTraining History:\")\n",
    "print(history_df)\n",
    "history_df.to_csv(\"Training_history.csv\", index=False)\n",
    "# EDA Part - Model Performance Analysis\n",
    "\n",
    "# 1. Confusion Matrix\n",
    "conf_matrix = confusion_matrix(all_labels, all_preds)\n",
    "plt.figure(figsize=(8, 6))\n",
    "sns.heatmap(conf_matrix, annot=True, fmt=\"d\", cmap=\"Blues\", cbar=False,\n",
    "            xticklabels=[\"Certainly Fake\", \"Probably Fake\", \"Probably Real\", \"Certainly Real\"],\n",
    "            yticklabels=[\"Certainly Fake\", \"Probably Fake\", \"Probably Real\", \"Certainly Real\"])\n",
    "plt.xlabel(\"Predicted\")\n",
    "plt.ylabel(\"True\")\n",
    "plt.title(\"Confusion Matrix\")\n",
    "plt.show()\n",
    "\n",
    "# 2. Error Analysis by Class\n",
    "errors = pd.DataFrame(conf_matrix, index=[\"Certainly Fake\", \"Probably Fake\", \"Probably Real\", \"Certainly Real\"],\n",
    "                      columns=[\"Certainly Fake\", \"Probably Fake\", \"Probably Real\", \"Certainly Real\"])\n",
    "errors['Total Errors'] = errors.sum(axis=1) - np.diag(errors)\n",
    "print(\"\\nErrors by Class:\")\n",
    "print(errors[['Total Errors']].sort_values(by='Total Errors', ascending=False))\n",
    "\n",
    "# 3. Classification Report\n",
    "report = classification_report(all_labels, all_preds, target_names=[\"Certainly Fake\", \"Probably Fake\", \"Probably Real\", \"Certainly Real\"], output_dict=True)\n",
    "report_df = pd.DataFrame(report).transpose()\n",
    "print(\"\\nClassification Report:\")\n",
    "print(report_df)\n",
    "\n",
    "# Plot Precision, Recall, and F1 Score per Class\n",
    "metrics = report_df[['precision', 'recall', 'f1-score']].iloc[:-1]  # Exclude support and accuracy row\n",
    "metrics.plot(kind='bar', figsize=(10, 7))\n",
    "plt.title(\"Precision, Recall, and F1 Score per Class\")\n",
    "plt.ylabel(\"Score\")\n",
    "plt.xlabel(\"Class\")\n",
    "plt.xticks(rotation=45)\n",
    "plt.legend(loc='upper right')\n",
    "plt.show()\n",
    "\n",
    "# 4. ROC-AUC Curve for Multi-Class Classification\n",
    "y_true = label_binarize(all_labels, classes=[0, 1, 2, 3])\n",
    "y_scores = label_binarize(all_preds, classes=[0, 1, 2, 3])\n",
    "\n",
    "plt.figure(figsize=(10, 7))\n",
    "for i, class_name in enumerate([\"Certainly Fake\", \"Probably Fake\", \"Probably Real\", \"Certainly Real\"]):\n",
    "    fpr, tpr, _ = roc_curve(y_true[:, i], y_scores[:, i])\n",
    "    plt.plot(fpr, tpr, label=f'{class_name} (AUC: {roc_auc_score(y_true[:, i], y_scores[:, i]):.2f})')\n",
    "\n",
    "plt.plot([0, 1], [0, 1], 'k--')\n",
    "plt.xlabel(\"False Positive Rate\")\n",
    "plt.ylabel(\"True Positive Rate\")\n",
    "plt.title(\"ROC-AUC Curve for Multi-Class Classification\")\n",
    "plt.legend()\n",
    "plt.show()\n",
    "\n",
    "import matplotlib.pyplot as plt\n",
    "import pandas as pd\n",
    "\n",
    "# Assuming `history` dictionary contains 'epoch', 'loss', 'accuracy', and 'f1_score'\n",
    "# Convert history to DataFrame for easier plotting\n",
    "history_df = pd.DataFrame(history)\n",
    "\n",
    "# Plot Accuracy over Epochs\n",
    "plt.figure(figsize=(10, 5))\n",
    "plt.plot(history_df['epoch'], history_df['accuracy'], marker='o', label='Accuracy', color='b')\n",
    "plt.xlabel(\"Epoch\")\n",
    "plt.ylabel(\"Accuracy\")\n",
    "plt.title(\"Accuracy over Epochs\")\n",
    "plt.legend()\n",
    "plt.grid()\n",
    "plt.show()\n",
    "\n",
    "# Plot Loss over Epochs\n",
    "plt.figure(figsize=(10, 5))\n",
    "plt.plot(history_df['epoch'], history_df['loss'], marker='o', label='Loss', color='r')\n",
    "plt.xlabel(\"Epoch\")\n",
    "plt.ylabel(\"Loss\")\n",
    "plt.title(\"Loss over Epochs\")\n",
    "plt.legend()\n",
    "plt.grid()\n",
    "plt.show()\n",
    "\n",
    "# Plot F1 Score over Epochs\n",
    "plt.figure(figsize=(10, 5))\n",
    "plt.plot(history_df['epoch'], history_df['f1_score'], marker='o', label='F1 Score', color='g')\n",
    "plt.xlabel(\"Epoch\")\n",
    "plt.ylabel(\"F1 Score\")\n",
    "plt.title(\"F1 Score over Epochs\")\n",
    "plt.legend()\n",
    "plt.grid()\n",
    "plt.show()\n",
    "\n",
    "# Combined Plot: Accuracy, Loss, and F1 Score over Epochs\n",
    "plt.figure(figsize=(12, 6))\n",
    "plt.plot(history_df['epoch'], history_df['accuracy'], marker='o', label='Accuracy', color='b')\n",
    "plt.plot(history_df['epoch'], history_df['loss'], marker='o', label='Loss', color='r')\n",
    "plt.plot(history_df['epoch'], history_df['f1_score'], marker='o', label='F1 Score', color='g')\n",
    "plt.xlabel(\"Epoch\")\n",
    "plt.title(\"Model Performance over Epochs\")\n",
    "plt.legend()\n",
    "plt.grid()\n",
    "plt.show()"
   ]
  }
 ],
 "metadata": {
  "kaggle": {
   "accelerator": "gpu",
   "dataSources": [
    {
     "datasetId": 5952474,
     "sourceId": 9727582,
     "sourceType": "datasetVersion"
    }
   ],
   "dockerImageVersionId": 30787,
   "isGpuEnabled": true,
   "isInternetEnabled": true,
   "language": "python",
   "sourceType": "notebook"
  },
  "kernelspec": {
   "display_name": "Python 3",
   "language": "python",
   "name": "python3"
  },
  "language_info": {
   "codemirror_mode": {
    "name": "ipython",
    "version": 3
   },
   "file_extension": ".py",
   "mimetype": "text/x-python",
   "name": "python",
   "nbconvert_exporter": "python",
   "pygments_lexer": "ipython3",
   "version": "3.10.14"
  },
  "papermill": {
   "default_parameters": {},
   "duration": 5001.626509,
   "end_time": "2024-11-12T06:57:07.196434",
   "environment_variables": {},
   "exception": null,
   "input_path": "__notebook__.ipynb",
   "output_path": "__notebook__.ipynb",
   "parameters": {},
   "start_time": "2024-11-12T05:33:45.569925",
   "version": "2.6.0"
  },
  "widgets": {
   "application/vnd.jupyter.widget-state+json": {
    "state": {
     "06960f903bed4ec893e0d39fb354e841": {
      "model_module": "@jupyter-widgets/controls",
      "model_module_version": "1.5.0",
      "model_name": "DescriptionStyleModel",
      "state": {
       "_model_module": "@jupyter-widgets/controls",
       "_model_module_version": "1.5.0",
       "_model_name": "DescriptionStyleModel",
       "_view_count": null,
       "_view_module": "@jupyter-widgets/base",
       "_view_module_version": "1.2.0",
       "_view_name": "StyleView",
       "description_width": ""
      }
     },
     "11458ca5e67d449fa60b96603028544b": {
      "model_module": "@jupyter-widgets/controls",
      "model_module_version": "1.5.0",
      "model_name": "HBoxModel",
      "state": {
       "_dom_classes": [],
       "_model_module": "@jupyter-widgets/controls",
       "_model_module_version": "1.5.0",
       "_model_name": "HBoxModel",
       "_view_count": null,
       "_view_module": "@jupyter-widgets/controls",
       "_view_module_version": "1.5.0",
       "_view_name": "HBoxView",
       "box_style": "",
       "children": [
        "IPY_MODEL_e0792183b3ba47bb9800f6285e0b56a1",
        "IPY_MODEL_66b83a3001134276892139ed77a47205",
        "IPY_MODEL_d3f5b80fe39a474bbf69feddc2069db9"
       ],
       "layout": "IPY_MODEL_258bd79d75ed4a8bb042ad6c3d85200d"
      }
     },
     "1307ca1a2fad4ad3b3aacc6e4da31026": {
      "model_module": "@jupyter-widgets/controls",
      "model_module_version": "1.5.0",
      "model_name": "HTMLModel",
      "state": {
       "_dom_classes": [],
       "_model_module": "@jupyter-widgets/controls",
       "_model_module_version": "1.5.0",
       "_model_name": "HTMLModel",
       "_view_count": null,
       "_view_module": "@jupyter-widgets/controls",
       "_view_module_version": "1.5.0",
       "_view_name": "HTMLView",
       "description": "",
       "description_tooltip": null,
       "layout": "IPY_MODEL_894a5d3051eb4e17b5b945423f6b7db9",
       "placeholder": "​",
       "style": "IPY_MODEL_06960f903bed4ec893e0d39fb354e841",
       "value": " 874M/874M [00:03&lt;00:00, 191MB/s]"
      }
     },
     "19da3fefe560430c97195b1b99046e4c": {
      "model_module": "@jupyter-widgets/controls",
      "model_module_version": "1.5.0",
      "model_name": "HTMLModel",
      "state": {
       "_dom_classes": [],
       "_model_module": "@jupyter-widgets/controls",
       "_model_module_version": "1.5.0",
       "_model_name": "HTMLModel",
       "_view_count": null,
       "_view_module": "@jupyter-widgets/controls",
       "_view_module_version": "1.5.0",
       "_view_name": "HTMLView",
       "description": "",
       "description_tooltip": null,
       "layout": "IPY_MODEL_f96e5b6724da461191382e4c55c1689b",
       "placeholder": "​",
       "style": "IPY_MODEL_1b0e5e25d9d848528a7bda43a98f9c89",
       "value": "tokenizer_config.json: 100%"
      }
     },
     "1aa3cdf3f9464ac6a0ba8a6191bb41c8": {
      "model_module": "@jupyter-widgets/controls",
      "model_module_version": "1.5.0",
      "model_name": "ProgressStyleModel",
      "state": {
       "_model_module": "@jupyter-widgets/controls",
       "_model_module_version": "1.5.0",
       "_model_name": "ProgressStyleModel",
       "_view_count": null,
       "_view_module": "@jupyter-widgets/base",
       "_view_module_version": "1.2.0",
       "_view_name": "StyleView",
       "bar_color": null,
       "description_width": ""
      }
     },
     "1b0e5e25d9d848528a7bda43a98f9c89": {
      "model_module": "@jupyter-widgets/controls",
      "model_module_version": "1.5.0",
      "model_name": "DescriptionStyleModel",
      "state": {
       "_model_module": "@jupyter-widgets/controls",
       "_model_module_version": "1.5.0",
       "_model_name": "DescriptionStyleModel",
       "_view_count": null,
       "_view_module": "@jupyter-widgets/base",
       "_view_module_version": "1.2.0",
       "_view_name": "StyleView",
       "description_width": ""
      }
     },
     "1f2f6258da974c84abce3b11cf9d5295": {
      "model_module": "@jupyter-widgets/controls",
      "model_module_version": "1.5.0",
      "model_name": "ProgressStyleModel",
      "state": {
       "_model_module": "@jupyter-widgets/controls",
       "_model_module_version": "1.5.0",
       "_model_name": "ProgressStyleModel",
       "_view_count": null,
       "_view_module": "@jupyter-widgets/base",
       "_view_module_version": "1.2.0",
       "_view_name": "StyleView",
       "bar_color": null,
       "description_width": ""
      }
     },
     "258bd79d75ed4a8bb042ad6c3d85200d": {
      "model_module": "@jupyter-widgets/base",
      "model_module_version": "1.2.0",
      "model_name": "LayoutModel",
      "state": {
       "_model_module": "@jupyter-widgets/base",
       "_model_module_version": "1.2.0",
       "_model_name": "LayoutModel",
       "_view_count": null,
       "_view_module": "@jupyter-widgets/base",
       "_view_module_version": "1.2.0",
       "_view_name": "LayoutView",
       "align_content": null,
       "align_items": null,
       "align_self": null,
       "border": null,
       "bottom": null,
       "display": null,
       "flex": null,
       "flex_flow": null,
       "grid_area": null,
       "grid_auto_columns": null,
       "grid_auto_flow": null,
       "grid_auto_rows": null,
       "grid_column": null,
       "grid_gap": null,
       "grid_row": null,
       "grid_template_areas": null,
       "grid_template_columns": null,
       "grid_template_rows": null,
       "height": null,
       "justify_content": null,
       "justify_items": null,
       "left": null,
       "margin": null,
       "max_height": null,
       "max_width": null,
       "min_height": null,
       "min_width": null,
       "object_fit": null,
       "object_position": null,
       "order": null,
       "overflow": null,
       "overflow_x": null,
       "overflow_y": null,
       "padding": null,
       "right": null,
       "top": null,
       "visibility": null,
       "width": null
      }
     },
     "27b372d7483a4d05a0eb75d4b95e0a64": {
      "model_module": "@jupyter-widgets/controls",
      "model_module_version": "1.5.0",
      "model_name": "HBoxModel",
      "state": {
       "_dom_classes": [],
       "_model_module": "@jupyter-widgets/controls",
       "_model_module_version": "1.5.0",
       "_model_name": "HBoxModel",
       "_view_count": null,
       "_view_module": "@jupyter-widgets/controls",
       "_view_module_version": "1.5.0",
       "_view_name": "HBoxView",
       "box_style": "",
       "children": [
        "IPY_MODEL_67078cadb5884dfd96c64b1cb07a396e",
        "IPY_MODEL_49f7469fd16041acb7f17377d6c591ab",
        "IPY_MODEL_1307ca1a2fad4ad3b3aacc6e4da31026"
       ],
       "layout": "IPY_MODEL_53a1f51a626841f8ab0fe94870fb2d98"
      }
     },
     "2febd04c84f64c978d2236e40868856d": {
      "model_module": "@jupyter-widgets/controls",
      "model_module_version": "1.5.0",
      "model_name": "ProgressStyleModel",
      "state": {
       "_model_module": "@jupyter-widgets/controls",
       "_model_module_version": "1.5.0",
       "_model_name": "ProgressStyleModel",
       "_view_count": null,
       "_view_module": "@jupyter-widgets/base",
       "_view_module_version": "1.2.0",
       "_view_name": "StyleView",
       "bar_color": null,
       "description_width": ""
      }
     },
     "3ac42e90bf56494f879d083b10df6a63": {
      "model_module": "@jupyter-widgets/controls",
      "model_module_version": "1.5.0",
      "model_name": "FloatProgressModel",
      "state": {
       "_dom_classes": [],
       "_model_module": "@jupyter-widgets/controls",
       "_model_module_version": "1.5.0",
       "_model_name": "FloatProgressModel",
       "_view_count": null,
       "_view_module": "@jupyter-widgets/controls",
       "_view_module_version": "1.5.0",
       "_view_name": "ProgressView",
       "bar_style": "success",
       "description": "",
       "description_tooltip": null,
       "layout": "IPY_MODEL_ae549ca8b2e342489984e3cd03efd251",
       "max": 52.0,
       "min": 0.0,
       "orientation": "horizontal",
       "style": "IPY_MODEL_2febd04c84f64c978d2236e40868856d",
       "value": 52.0
      }
     },
     "40d62fbee47f42d3a03ef78b2c4e8ddf": {
      "model_module": "@jupyter-widgets/controls",
      "model_module_version": "1.5.0",
      "model_name": "HTMLModel",
      "state": {
       "_dom_classes": [],
       "_model_module": "@jupyter-widgets/controls",
       "_model_module_version": "1.5.0",
       "_model_name": "HTMLModel",
       "_view_count": null,
       "_view_module": "@jupyter-widgets/controls",
       "_view_module_version": "1.5.0",
       "_view_name": "HTMLView",
       "description": "",
       "description_tooltip": null,
       "layout": "IPY_MODEL_46bf0643a5bd41b1b232ceb652d15806",
       "placeholder": "​",
       "style": "IPY_MODEL_7b606828bc5b4ee3b9e0d89aca275755",
       "value": " 2.46M/2.46M [00:00&lt;00:00, 24.2MB/s]"
      }
     },
     "46bf0643a5bd41b1b232ceb652d15806": {
      "model_module": "@jupyter-widgets/base",
      "model_module_version": "1.2.0",
      "model_name": "LayoutModel",
      "state": {
       "_model_module": "@jupyter-widgets/base",
       "_model_module_version": "1.2.0",
       "_model_name": "LayoutModel",
       "_view_count": null,
       "_view_module": "@jupyter-widgets/base",
       "_view_module_version": "1.2.0",
       "_view_name": "LayoutView",
       "align_content": null,
       "align_items": null,
       "align_self": null,
       "border": null,
       "bottom": null,
       "display": null,
       "flex": null,
       "flex_flow": null,
       "grid_area": null,
       "grid_auto_columns": null,
       "grid_auto_flow": null,
       "grid_auto_rows": null,
       "grid_column": null,
       "grid_gap": null,
       "grid_row": null,
       "grid_template_areas": null,
       "grid_template_columns": null,
       "grid_template_rows": null,
       "height": null,
       "justify_content": null,
       "justify_items": null,
       "left": null,
       "margin": null,
       "max_height": null,
       "max_width": null,
       "min_height": null,
       "min_width": null,
       "object_fit": null,
       "object_position": null,
       "order": null,
       "overflow": null,
       "overflow_x": null,
       "overflow_y": null,
       "padding": null,
       "right": null,
       "top": null,
       "visibility": null,
       "width": null
      }
     },
     "49f7469fd16041acb7f17377d6c591ab": {
      "model_module": "@jupyter-widgets/controls",
      "model_module_version": "1.5.0",
      "model_name": "FloatProgressModel",
      "state": {
       "_dom_classes": [],
       "_model_module": "@jupyter-widgets/controls",
       "_model_module_version": "1.5.0",
       "_model_name": "FloatProgressModel",
       "_view_count": null,
       "_view_module": "@jupyter-widgets/controls",
       "_view_module_version": "1.5.0",
       "_view_name": "ProgressView",
       "bar_style": "success",
       "description": "",
       "description_tooltip": null,
       "layout": "IPY_MODEL_5eeeb568b9304251887a6bbd2aff6250",
       "max": 873673253.0,
       "min": 0.0,
       "orientation": "horizontal",
       "style": "IPY_MODEL_1f2f6258da974c84abce3b11cf9d5295",
       "value": 873673253.0
      }
     },
     "4e32077815124fc0b02771d9c3f4b89c": {
      "model_module": "@jupyter-widgets/base",
      "model_module_version": "1.2.0",
      "model_name": "LayoutModel",
      "state": {
       "_model_module": "@jupyter-widgets/base",
       "_model_module_version": "1.2.0",
       "_model_name": "LayoutModel",
       "_view_count": null,
       "_view_module": "@jupyter-widgets/base",
       "_view_module_version": "1.2.0",
       "_view_name": "LayoutView",
       "align_content": null,
       "align_items": null,
       "align_self": null,
       "border": null,
       "bottom": null,
       "display": null,
       "flex": null,
       "flex_flow": null,
       "grid_area": null,
       "grid_auto_columns": null,
       "grid_auto_flow": null,
       "grid_auto_rows": null,
       "grid_column": null,
       "grid_gap": null,
       "grid_row": null,
       "grid_template_areas": null,
       "grid_template_columns": null,
       "grid_template_rows": null,
       "height": null,
       "justify_content": null,
       "justify_items": null,
       "left": null,
       "margin": null,
       "max_height": null,
       "max_width": null,
       "min_height": null,
       "min_width": null,
       "object_fit": null,
       "object_position": null,
       "order": null,
       "overflow": null,
       "overflow_x": null,
       "overflow_y": null,
       "padding": null,
       "right": null,
       "top": null,
       "visibility": null,
       "width": null
      }
     },
     "51d9b1d9ba4b402b8d45fb9ede5deadc": {
      "model_module": "@jupyter-widgets/controls",
      "model_module_version": "1.5.0",
      "model_name": "ProgressStyleModel",
      "state": {
       "_model_module": "@jupyter-widgets/controls",
       "_model_module_version": "1.5.0",
       "_model_name": "ProgressStyleModel",
       "_view_count": null,
       "_view_module": "@jupyter-widgets/base",
       "_view_module_version": "1.2.0",
       "_view_name": "StyleView",
       "bar_color": null,
       "description_width": ""
      }
     },
     "53a1f51a626841f8ab0fe94870fb2d98": {
      "model_module": "@jupyter-widgets/base",
      "model_module_version": "1.2.0",
      "model_name": "LayoutModel",
      "state": {
       "_model_module": "@jupyter-widgets/base",
       "_model_module_version": "1.2.0",
       "_model_name": "LayoutModel",
       "_view_count": null,
       "_view_module": "@jupyter-widgets/base",
       "_view_module_version": "1.2.0",
       "_view_name": "LayoutView",
       "align_content": null,
       "align_items": null,
       "align_self": null,
       "border": null,
       "bottom": null,
       "display": null,
       "flex": null,
       "flex_flow": null,
       "grid_area": null,
       "grid_auto_columns": null,
       "grid_auto_flow": null,
       "grid_auto_rows": null,
       "grid_column": null,
       "grid_gap": null,
       "grid_row": null,
       "grid_template_areas": null,
       "grid_template_columns": null,
       "grid_template_rows": null,
       "height": null,
       "justify_content": null,
       "justify_items": null,
       "left": null,
       "margin": null,
       "max_height": null,
       "max_width": null,
       "min_height": null,
       "min_width": null,
       "object_fit": null,
       "object_position": null,
       "order": null,
       "overflow": null,
       "overflow_x": null,
       "overflow_y": null,
       "padding": null,
       "right": null,
       "top": null,
       "visibility": null,
       "width": null
      }
     },
     "56765f4c97664f18a341e6f2c263fc1d": {
      "model_module": "@jupyter-widgets/controls",
      "model_module_version": "1.5.0",
      "model_name": "DescriptionStyleModel",
      "state": {
       "_model_module": "@jupyter-widgets/controls",
       "_model_module_version": "1.5.0",
       "_model_name": "DescriptionStyleModel",
       "_view_count": null,
       "_view_module": "@jupyter-widgets/base",
       "_view_module_version": "1.2.0",
       "_view_name": "StyleView",
       "description_width": ""
      }
     },
     "5eeeb568b9304251887a6bbd2aff6250": {
      "model_module": "@jupyter-widgets/base",
      "model_module_version": "1.2.0",
      "model_name": "LayoutModel",
      "state": {
       "_model_module": "@jupyter-widgets/base",
       "_model_module_version": "1.2.0",
       "_model_name": "LayoutModel",
       "_view_count": null,
       "_view_module": "@jupyter-widgets/base",
       "_view_module_version": "1.2.0",
       "_view_name": "LayoutView",
       "align_content": null,
       "align_items": null,
       "align_self": null,
       "border": null,
       "bottom": null,
       "display": null,
       "flex": null,
       "flex_flow": null,
       "grid_area": null,
       "grid_auto_columns": null,
       "grid_auto_flow": null,
       "grid_auto_rows": null,
       "grid_column": null,
       "grid_gap": null,
       "grid_row": null,
       "grid_template_areas": null,
       "grid_template_columns": null,
       "grid_template_rows": null,
       "height": null,
       "justify_content": null,
       "justify_items": null,
       "left": null,
       "margin": null,
       "max_height": null,
       "max_width": null,
       "min_height": null,
       "min_width": null,
       "object_fit": null,
       "object_position": null,
       "order": null,
       "overflow": null,
       "overflow_x": null,
       "overflow_y": null,
       "padding": null,
       "right": null,
       "top": null,
       "visibility": null,
       "width": null
      }
     },
     "66b83a3001134276892139ed77a47205": {
      "model_module": "@jupyter-widgets/controls",
      "model_module_version": "1.5.0",
      "model_name": "FloatProgressModel",
      "state": {
       "_dom_classes": [],
       "_model_module": "@jupyter-widgets/controls",
       "_model_module_version": "1.5.0",
       "_model_name": "FloatProgressModel",
       "_view_count": null,
       "_view_module": "@jupyter-widgets/controls",
       "_view_module_version": "1.5.0",
       "_view_name": "ProgressView",
       "bar_style": "success",
       "description": "",
       "description_tooltip": null,
       "layout": "IPY_MODEL_d9a8046da6454ae19611aeb9127b46d9",
       "max": 580.0,
       "min": 0.0,
       "orientation": "horizontal",
       "style": "IPY_MODEL_51d9b1d9ba4b402b8d45fb9ede5deadc",
       "value": 580.0
      }
     },
     "67078cadb5884dfd96c64b1cb07a396e": {
      "model_module": "@jupyter-widgets/controls",
      "model_module_version": "1.5.0",
      "model_name": "HTMLModel",
      "state": {
       "_dom_classes": [],
       "_model_module": "@jupyter-widgets/controls",
       "_model_module_version": "1.5.0",
       "_model_name": "HTMLModel",
       "_view_count": null,
       "_view_module": "@jupyter-widgets/controls",
       "_view_module_version": "1.5.0",
       "_view_name": "HTMLView",
       "description": "",
       "description_tooltip": null,
       "layout": "IPY_MODEL_e5a4a07403f149ed8947ccb254bf21f9",
       "placeholder": "​",
       "style": "IPY_MODEL_cb2360b83b0b4866a37b66186ceccc36",
       "value": "pytorch_model.bin: 100%"
      }
     },
     "7b606828bc5b4ee3b9e0d89aca275755": {
      "model_module": "@jupyter-widgets/controls",
      "model_module_version": "1.5.0",
      "model_name": "DescriptionStyleModel",
      "state": {
       "_model_module": "@jupyter-widgets/controls",
       "_model_module_version": "1.5.0",
       "_model_name": "DescriptionStyleModel",
       "_view_count": null,
       "_view_module": "@jupyter-widgets/base",
       "_view_module_version": "1.2.0",
       "_view_name": "StyleView",
       "description_width": ""
      }
     },
     "894a5d3051eb4e17b5b945423f6b7db9": {
      "model_module": "@jupyter-widgets/base",
      "model_module_version": "1.2.0",
      "model_name": "LayoutModel",
      "state": {
       "_model_module": "@jupyter-widgets/base",
       "_model_module_version": "1.2.0",
       "_model_name": "LayoutModel",
       "_view_count": null,
       "_view_module": "@jupyter-widgets/base",
       "_view_module_version": "1.2.0",
       "_view_name": "LayoutView",
       "align_content": null,
       "align_items": null,
       "align_self": null,
       "border": null,
       "bottom": null,
       "display": null,
       "flex": null,
       "flex_flow": null,
       "grid_area": null,
       "grid_auto_columns": null,
       "grid_auto_flow": null,
       "grid_auto_rows": null,
       "grid_column": null,
       "grid_gap": null,
       "grid_row": null,
       "grid_template_areas": null,
       "grid_template_columns": null,
       "grid_template_rows": null,
       "height": null,
       "justify_content": null,
       "justify_items": null,
       "left": null,
       "margin": null,
       "max_height": null,
       "max_width": null,
       "min_height": null,
       "min_width": null,
       "object_fit": null,
       "object_position": null,
       "order": null,
       "overflow": null,
       "overflow_x": null,
       "overflow_y": null,
       "padding": null,
       "right": null,
       "top": null,
       "visibility": null,
       "width": null
      }
     },
     "8b310557246144d7bd286c246e53f7a8": {
      "model_module": "@jupyter-widgets/controls",
      "model_module_version": "1.5.0",
      "model_name": "DescriptionStyleModel",
      "state": {
       "_model_module": "@jupyter-widgets/controls",
       "_model_module_version": "1.5.0",
       "_model_name": "DescriptionStyleModel",
       "_view_count": null,
       "_view_module": "@jupyter-widgets/base",
       "_view_module_version": "1.2.0",
       "_view_name": "StyleView",
       "description_width": ""
      }
     },
     "8d1b49838a964811aac206bb33a9190b": {
      "model_module": "@jupyter-widgets/base",
      "model_module_version": "1.2.0",
      "model_name": "LayoutModel",
      "state": {
       "_model_module": "@jupyter-widgets/base",
       "_model_module_version": "1.2.0",
       "_model_name": "LayoutModel",
       "_view_count": null,
       "_view_module": "@jupyter-widgets/base",
       "_view_module_version": "1.2.0",
       "_view_name": "LayoutView",
       "align_content": null,
       "align_items": null,
       "align_self": null,
       "border": null,
       "bottom": null,
       "display": null,
       "flex": null,
       "flex_flow": null,
       "grid_area": null,
       "grid_auto_columns": null,
       "grid_auto_flow": null,
       "grid_auto_rows": null,
       "grid_column": null,
       "grid_gap": null,
       "grid_row": null,
       "grid_template_areas": null,
       "grid_template_columns": null,
       "grid_template_rows": null,
       "height": null,
       "justify_content": null,
       "justify_items": null,
       "left": null,
       "margin": null,
       "max_height": null,
       "max_width": null,
       "min_height": null,
       "min_width": null,
       "object_fit": null,
       "object_position": null,
       "order": null,
       "overflow": null,
       "overflow_x": null,
       "overflow_y": null,
       "padding": null,
       "right": null,
       "top": null,
       "visibility": null,
       "width": null
      }
     },
     "9255de7d9d334b5dbbb4f5890ccf3439": {
      "model_module": "@jupyter-widgets/controls",
      "model_module_version": "1.5.0",
      "model_name": "HTMLModel",
      "state": {
       "_dom_classes": [],
       "_model_module": "@jupyter-widgets/controls",
       "_model_module_version": "1.5.0",
       "_model_name": "HTMLModel",
       "_view_count": null,
       "_view_module": "@jupyter-widgets/controls",
       "_view_module_version": "1.5.0",
       "_view_name": "HTMLView",
       "description": "",
       "description_tooltip": null,
       "layout": "IPY_MODEL_f13190e9b48243b1b9867227bd75b3e9",
       "placeholder": "​",
       "style": "IPY_MODEL_56765f4c97664f18a341e6f2c263fc1d",
       "value": " 52.0/52.0 [00:00&lt;00:00, 4.19kB/s]"
      }
     },
     "99de80f4c1db48a49b549bbcec1c1423": {
      "model_module": "@jupyter-widgets/controls",
      "model_module_version": "1.5.0",
      "model_name": "FloatProgressModel",
      "state": {
       "_dom_classes": [],
       "_model_module": "@jupyter-widgets/controls",
       "_model_module_version": "1.5.0",
       "_model_name": "FloatProgressModel",
       "_view_count": null,
       "_view_module": "@jupyter-widgets/controls",
       "_view_module_version": "1.5.0",
       "_view_name": "ProgressView",
       "bar_style": "success",
       "description": "",
       "description_tooltip": null,
       "layout": "IPY_MODEL_4e32077815124fc0b02771d9c3f4b89c",
       "max": 2464616.0,
       "min": 0.0,
       "orientation": "horizontal",
       "style": "IPY_MODEL_1aa3cdf3f9464ac6a0ba8a6191bb41c8",
       "value": 2464616.0
      }
     },
     "abaa2a3ae84549b6b5615ff47b479611": {
      "model_module": "@jupyter-widgets/controls",
      "model_module_version": "1.5.0",
      "model_name": "HTMLModel",
      "state": {
       "_dom_classes": [],
       "_model_module": "@jupyter-widgets/controls",
       "_model_module_version": "1.5.0",
       "_model_name": "HTMLModel",
       "_view_count": null,
       "_view_module": "@jupyter-widgets/controls",
       "_view_module_version": "1.5.0",
       "_view_name": "HTMLView",
       "description": "",
       "description_tooltip": null,
       "layout": "IPY_MODEL_f20095a2293741b78ef945a1b84d729a",
       "placeholder": "​",
       "style": "IPY_MODEL_edcd0f5f5f7f4c02a16690b96e960e4f",
       "value": "spm.model: 100%"
      }
     },
     "abab0836c8aa427e8fc93c0950d3272e": {
      "model_module": "@jupyter-widgets/base",
      "model_module_version": "1.2.0",
      "model_name": "LayoutModel",
      "state": {
       "_model_module": "@jupyter-widgets/base",
       "_model_module_version": "1.2.0",
       "_model_name": "LayoutModel",
       "_view_count": null,
       "_view_module": "@jupyter-widgets/base",
       "_view_module_version": "1.2.0",
       "_view_name": "LayoutView",
       "align_content": null,
       "align_items": null,
       "align_self": null,
       "border": null,
       "bottom": null,
       "display": null,
       "flex": null,
       "flex_flow": null,
       "grid_area": null,
       "grid_auto_columns": null,
       "grid_auto_flow": null,
       "grid_auto_rows": null,
       "grid_column": null,
       "grid_gap": null,
       "grid_row": null,
       "grid_template_areas": null,
       "grid_template_columns": null,
       "grid_template_rows": null,
       "height": null,
       "justify_content": null,
       "justify_items": null,
       "left": null,
       "margin": null,
       "max_height": null,
       "max_width": null,
       "min_height": null,
       "min_width": null,
       "object_fit": null,
       "object_position": null,
       "order": null,
       "overflow": null,
       "overflow_x": null,
       "overflow_y": null,
       "padding": null,
       "right": null,
       "top": null,
       "visibility": null,
       "width": null
      }
     },
     "ae549ca8b2e342489984e3cd03efd251": {
      "model_module": "@jupyter-widgets/base",
      "model_module_version": "1.2.0",
      "model_name": "LayoutModel",
      "state": {
       "_model_module": "@jupyter-widgets/base",
       "_model_module_version": "1.2.0",
       "_model_name": "LayoutModel",
       "_view_count": null,
       "_view_module": "@jupyter-widgets/base",
       "_view_module_version": "1.2.0",
       "_view_name": "LayoutView",
       "align_content": null,
       "align_items": null,
       "align_self": null,
       "border": null,
       "bottom": null,
       "display": null,
       "flex": null,
       "flex_flow": null,
       "grid_area": null,
       "grid_auto_columns": null,
       "grid_auto_flow": null,
       "grid_auto_rows": null,
       "grid_column": null,
       "grid_gap": null,
       "grid_row": null,
       "grid_template_areas": null,
       "grid_template_columns": null,
       "grid_template_rows": null,
       "height": null,
       "justify_content": null,
       "justify_items": null,
       "left": null,
       "margin": null,
       "max_height": null,
       "max_width": null,
       "min_height": null,
       "min_width": null,
       "object_fit": null,
       "object_position": null,
       "order": null,
       "overflow": null,
       "overflow_x": null,
       "overflow_y": null,
       "padding": null,
       "right": null,
       "top": null,
       "visibility": null,
       "width": null
      }
     },
     "c877876c590349b69ef39043da27ecb1": {
      "model_module": "@jupyter-widgets/controls",
      "model_module_version": "1.5.0",
      "model_name": "DescriptionStyleModel",
      "state": {
       "_model_module": "@jupyter-widgets/controls",
       "_model_module_version": "1.5.0",
       "_model_name": "DescriptionStyleModel",
       "_view_count": null,
       "_view_module": "@jupyter-widgets/base",
       "_view_module_version": "1.2.0",
       "_view_name": "StyleView",
       "description_width": ""
      }
     },
     "c94277a91b3946ddb29662e349b7a75e": {
      "model_module": "@jupyter-widgets/base",
      "model_module_version": "1.2.0",
      "model_name": "LayoutModel",
      "state": {
       "_model_module": "@jupyter-widgets/base",
       "_model_module_version": "1.2.0",
       "_model_name": "LayoutModel",
       "_view_count": null,
       "_view_module": "@jupyter-widgets/base",
       "_view_module_version": "1.2.0",
       "_view_name": "LayoutView",
       "align_content": null,
       "align_items": null,
       "align_self": null,
       "border": null,
       "bottom": null,
       "display": null,
       "flex": null,
       "flex_flow": null,
       "grid_area": null,
       "grid_auto_columns": null,
       "grid_auto_flow": null,
       "grid_auto_rows": null,
       "grid_column": null,
       "grid_gap": null,
       "grid_row": null,
       "grid_template_areas": null,
       "grid_template_columns": null,
       "grid_template_rows": null,
       "height": null,
       "justify_content": null,
       "justify_items": null,
       "left": null,
       "margin": null,
       "max_height": null,
       "max_width": null,
       "min_height": null,
       "min_width": null,
       "object_fit": null,
       "object_position": null,
       "order": null,
       "overflow": null,
       "overflow_x": null,
       "overflow_y": null,
       "padding": null,
       "right": null,
       "top": null,
       "visibility": null,
       "width": null
      }
     },
     "cb2360b83b0b4866a37b66186ceccc36": {
      "model_module": "@jupyter-widgets/controls",
      "model_module_version": "1.5.0",
      "model_name": "DescriptionStyleModel",
      "state": {
       "_model_module": "@jupyter-widgets/controls",
       "_model_module_version": "1.5.0",
       "_model_name": "DescriptionStyleModel",
       "_view_count": null,
       "_view_module": "@jupyter-widgets/base",
       "_view_module_version": "1.2.0",
       "_view_name": "StyleView",
       "description_width": ""
      }
     },
     "cc0a6e2212284285bc54c07875ec8850": {
      "model_module": "@jupyter-widgets/controls",
      "model_module_version": "1.5.0",
      "model_name": "HBoxModel",
      "state": {
       "_dom_classes": [],
       "_model_module": "@jupyter-widgets/controls",
       "_model_module_version": "1.5.0",
       "_model_name": "HBoxModel",
       "_view_count": null,
       "_view_module": "@jupyter-widgets/controls",
       "_view_module_version": "1.5.0",
       "_view_name": "HBoxView",
       "box_style": "",
       "children": [
        "IPY_MODEL_abaa2a3ae84549b6b5615ff47b479611",
        "IPY_MODEL_99de80f4c1db48a49b549bbcec1c1423",
        "IPY_MODEL_40d62fbee47f42d3a03ef78b2c4e8ddf"
       ],
       "layout": "IPY_MODEL_c94277a91b3946ddb29662e349b7a75e"
      }
     },
     "d3f5b80fe39a474bbf69feddc2069db9": {
      "model_module": "@jupyter-widgets/controls",
      "model_module_version": "1.5.0",
      "model_name": "HTMLModel",
      "state": {
       "_dom_classes": [],
       "_model_module": "@jupyter-widgets/controls",
       "_model_module_version": "1.5.0",
       "_model_name": "HTMLModel",
       "_view_count": null,
       "_view_module": "@jupyter-widgets/controls",
       "_view_module_version": "1.5.0",
       "_view_name": "HTMLView",
       "description": "",
       "description_tooltip": null,
       "layout": "IPY_MODEL_df2002a887ae4ce39bf2aaa732c98469",
       "placeholder": "​",
       "style": "IPY_MODEL_8b310557246144d7bd286c246e53f7a8",
       "value": " 580/580 [00:00&lt;00:00, 47.7kB/s]"
      }
     },
     "d9a8046da6454ae19611aeb9127b46d9": {
      "model_module": "@jupyter-widgets/base",
      "model_module_version": "1.2.0",
      "model_name": "LayoutModel",
      "state": {
       "_model_module": "@jupyter-widgets/base",
       "_model_module_version": "1.2.0",
       "_model_name": "LayoutModel",
       "_view_count": null,
       "_view_module": "@jupyter-widgets/base",
       "_view_module_version": "1.2.0",
       "_view_name": "LayoutView",
       "align_content": null,
       "align_items": null,
       "align_self": null,
       "border": null,
       "bottom": null,
       "display": null,
       "flex": null,
       "flex_flow": null,
       "grid_area": null,
       "grid_auto_columns": null,
       "grid_auto_flow": null,
       "grid_auto_rows": null,
       "grid_column": null,
       "grid_gap": null,
       "grid_row": null,
       "grid_template_areas": null,
       "grid_template_columns": null,
       "grid_template_rows": null,
       "height": null,
       "justify_content": null,
       "justify_items": null,
       "left": null,
       "margin": null,
       "max_height": null,
       "max_width": null,
       "min_height": null,
       "min_width": null,
       "object_fit": null,
       "object_position": null,
       "order": null,
       "overflow": null,
       "overflow_x": null,
       "overflow_y": null,
       "padding": null,
       "right": null,
       "top": null,
       "visibility": null,
       "width": null
      }
     },
     "df2002a887ae4ce39bf2aaa732c98469": {
      "model_module": "@jupyter-widgets/base",
      "model_module_version": "1.2.0",
      "model_name": "LayoutModel",
      "state": {
       "_model_module": "@jupyter-widgets/base",
       "_model_module_version": "1.2.0",
       "_model_name": "LayoutModel",
       "_view_count": null,
       "_view_module": "@jupyter-widgets/base",
       "_view_module_version": "1.2.0",
       "_view_name": "LayoutView",
       "align_content": null,
       "align_items": null,
       "align_self": null,
       "border": null,
       "bottom": null,
       "display": null,
       "flex": null,
       "flex_flow": null,
       "grid_area": null,
       "grid_auto_columns": null,
       "grid_auto_flow": null,
       "grid_auto_rows": null,
       "grid_column": null,
       "grid_gap": null,
       "grid_row": null,
       "grid_template_areas": null,
       "grid_template_columns": null,
       "grid_template_rows": null,
       "height": null,
       "justify_content": null,
       "justify_items": null,
       "left": null,
       "margin": null,
       "max_height": null,
       "max_width": null,
       "min_height": null,
       "min_width": null,
       "object_fit": null,
       "object_position": null,
       "order": null,
       "overflow": null,
       "overflow_x": null,
       "overflow_y": null,
       "padding": null,
       "right": null,
       "top": null,
       "visibility": null,
       "width": null
      }
     },
     "e0792183b3ba47bb9800f6285e0b56a1": {
      "model_module": "@jupyter-widgets/controls",
      "model_module_version": "1.5.0",
      "model_name": "HTMLModel",
      "state": {
       "_dom_classes": [],
       "_model_module": "@jupyter-widgets/controls",
       "_model_module_version": "1.5.0",
       "_model_name": "HTMLModel",
       "_view_count": null,
       "_view_module": "@jupyter-widgets/controls",
       "_view_module_version": "1.5.0",
       "_view_name": "HTMLView",
       "description": "",
       "description_tooltip": null,
       "layout": "IPY_MODEL_8d1b49838a964811aac206bb33a9190b",
       "placeholder": "​",
       "style": "IPY_MODEL_c877876c590349b69ef39043da27ecb1",
       "value": "config.json: 100%"
      }
     },
     "e5a4a07403f149ed8947ccb254bf21f9": {
      "model_module": "@jupyter-widgets/base",
      "model_module_version": "1.2.0",
      "model_name": "LayoutModel",
      "state": {
       "_model_module": "@jupyter-widgets/base",
       "_model_module_version": "1.2.0",
       "_model_name": "LayoutModel",
       "_view_count": null,
       "_view_module": "@jupyter-widgets/base",
       "_view_module_version": "1.2.0",
       "_view_name": "LayoutView",
       "align_content": null,
       "align_items": null,
       "align_self": null,
       "border": null,
       "bottom": null,
       "display": null,
       "flex": null,
       "flex_flow": null,
       "grid_area": null,
       "grid_auto_columns": null,
       "grid_auto_flow": null,
       "grid_auto_rows": null,
       "grid_column": null,
       "grid_gap": null,
       "grid_row": null,
       "grid_template_areas": null,
       "grid_template_columns": null,
       "grid_template_rows": null,
       "height": null,
       "justify_content": null,
       "justify_items": null,
       "left": null,
       "margin": null,
       "max_height": null,
       "max_width": null,
       "min_height": null,
       "min_width": null,
       "object_fit": null,
       "object_position": null,
       "order": null,
       "overflow": null,
       "overflow_x": null,
       "overflow_y": null,
       "padding": null,
       "right": null,
       "top": null,
       "visibility": null,
       "width": null
      }
     },
     "edcd0f5f5f7f4c02a16690b96e960e4f": {
      "model_module": "@jupyter-widgets/controls",
      "model_module_version": "1.5.0",
      "model_name": "DescriptionStyleModel",
      "state": {
       "_model_module": "@jupyter-widgets/controls",
       "_model_module_version": "1.5.0",
       "_model_name": "DescriptionStyleModel",
       "_view_count": null,
       "_view_module": "@jupyter-widgets/base",
       "_view_module_version": "1.2.0",
       "_view_name": "StyleView",
       "description_width": ""
      }
     },
     "f13190e9b48243b1b9867227bd75b3e9": {
      "model_module": "@jupyter-widgets/base",
      "model_module_version": "1.2.0",
      "model_name": "LayoutModel",
      "state": {
       "_model_module": "@jupyter-widgets/base",
       "_model_module_version": "1.2.0",
       "_model_name": "LayoutModel",
       "_view_count": null,
       "_view_module": "@jupyter-widgets/base",
       "_view_module_version": "1.2.0",
       "_view_name": "LayoutView",
       "align_content": null,
       "align_items": null,
       "align_self": null,
       "border": null,
       "bottom": null,
       "display": null,
       "flex": null,
       "flex_flow": null,
       "grid_area": null,
       "grid_auto_columns": null,
       "grid_auto_flow": null,
       "grid_auto_rows": null,
       "grid_column": null,
       "grid_gap": null,
       "grid_row": null,
       "grid_template_areas": null,
       "grid_template_columns": null,
       "grid_template_rows": null,
       "height": null,
       "justify_content": null,
       "justify_items": null,
       "left": null,
       "margin": null,
       "max_height": null,
       "max_width": null,
       "min_height": null,
       "min_width": null,
       "object_fit": null,
       "object_position": null,
       "order": null,
       "overflow": null,
       "overflow_x": null,
       "overflow_y": null,
       "padding": null,
       "right": null,
       "top": null,
       "visibility": null,
       "width": null
      }
     },
     "f20095a2293741b78ef945a1b84d729a": {
      "model_module": "@jupyter-widgets/base",
      "model_module_version": "1.2.0",
      "model_name": "LayoutModel",
      "state": {
       "_model_module": "@jupyter-widgets/base",
       "_model_module_version": "1.2.0",
       "_model_name": "LayoutModel",
       "_view_count": null,
       "_view_module": "@jupyter-widgets/base",
       "_view_module_version": "1.2.0",
       "_view_name": "LayoutView",
       "align_content": null,
       "align_items": null,
       "align_self": null,
       "border": null,
       "bottom": null,
       "display": null,
       "flex": null,
       "flex_flow": null,
       "grid_area": null,
       "grid_auto_columns": null,
       "grid_auto_flow": null,
       "grid_auto_rows": null,
       "grid_column": null,
       "grid_gap": null,
       "grid_row": null,
       "grid_template_areas": null,
       "grid_template_columns": null,
       "grid_template_rows": null,
       "height": null,
       "justify_content": null,
       "justify_items": null,
       "left": null,
       "margin": null,
       "max_height": null,
       "max_width": null,
       "min_height": null,
       "min_width": null,
       "object_fit": null,
       "object_position": null,
       "order": null,
       "overflow": null,
       "overflow_x": null,
       "overflow_y": null,
       "padding": null,
       "right": null,
       "top": null,
       "visibility": null,
       "width": null
      }
     },
     "f96e5b6724da461191382e4c55c1689b": {
      "model_module": "@jupyter-widgets/base",
      "model_module_version": "1.2.0",
      "model_name": "LayoutModel",
      "state": {
       "_model_module": "@jupyter-widgets/base",
       "_model_module_version": "1.2.0",
       "_model_name": "LayoutModel",
       "_view_count": null,
       "_view_module": "@jupyter-widgets/base",
       "_view_module_version": "1.2.0",
       "_view_name": "LayoutView",
       "align_content": null,
       "align_items": null,
       "align_self": null,
       "border": null,
       "bottom": null,
       "display": null,
       "flex": null,
       "flex_flow": null,
       "grid_area": null,
       "grid_auto_columns": null,
       "grid_auto_flow": null,
       "grid_auto_rows": null,
       "grid_column": null,
       "grid_gap": null,
       "grid_row": null,
       "grid_template_areas": null,
       "grid_template_columns": null,
       "grid_template_rows": null,
       "height": null,
       "justify_content": null,
       "justify_items": null,
       "left": null,
       "margin": null,
       "max_height": null,
       "max_width": null,
       "min_height": null,
       "min_width": null,
       "object_fit": null,
       "object_position": null,
       "order": null,
       "overflow": null,
       "overflow_x": null,
       "overflow_y": null,
       "padding": null,
       "right": null,
       "top": null,
       "visibility": null,
       "width": null
      }
     },
     "fa94efc4ffbe42b69c691c713ffb150b": {
      "model_module": "@jupyter-widgets/controls",
      "model_module_version": "1.5.0",
      "model_name": "HBoxModel",
      "state": {
       "_dom_classes": [],
       "_model_module": "@jupyter-widgets/controls",
       "_model_module_version": "1.5.0",
       "_model_name": "HBoxModel",
       "_view_count": null,
       "_view_module": "@jupyter-widgets/controls",
       "_view_module_version": "1.5.0",
       "_view_name": "HBoxView",
       "box_style": "",
       "children": [
        "IPY_MODEL_19da3fefe560430c97195b1b99046e4c",
        "IPY_MODEL_3ac42e90bf56494f879d083b10df6a63",
        "IPY_MODEL_9255de7d9d334b5dbbb4f5890ccf3439"
       ],
       "layout": "IPY_MODEL_abab0836c8aa427e8fc93c0950d3272e"
      }
     }
    },
    "version_major": 2,
    "version_minor": 0
   }
  }
 },
 "nbformat": 4,
 "nbformat_minor": 5
}
